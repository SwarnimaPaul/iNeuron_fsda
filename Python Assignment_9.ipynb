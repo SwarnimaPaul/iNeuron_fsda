{
 "cells": [
  {
   "cell_type": "markdown",
   "id": "47b9bb99",
   "metadata": {},
   "source": [
    "## Programming Assignment_9\n",
    "----------------"
   ]
  },
  {
   "cell_type": "markdown",
   "id": "c725f7a9",
   "metadata": {},
   "source": [
    "### 1. Write a Python program to check if the given number is a Disarium Number?"
   ]
  },
  {
   "cell_type": "code",
   "execution_count": null,
   "id": "ff24c32a-3d5f-4425-884c-afff1c88370a",
   "metadata": {},
   "outputs": [],
   "source": [
    "def is_disarium_number(num):\n",
    "    # Convert the number to a string to work with individual digits\n",
    "    num_str = str(num)\n",
    "\n",
    "    # Calculate the sum of digits raised to their respective positions\n",
    "    sum_of_powers = sum(int(digit) ** (index + 1) for index, digit in enumerate(num_str))\n",
    "\n",
    "    # Check if the sum equals the original number\n",
    "    return sum_of_powers == num\n",
    "\n",
    "# Input a number from the user\n",
    "num = int(input(\"Enter a number: \"))\n",
    "\n",
    "# Check if it's a Disarium number and print the result\n",
    "if is_disarium_number(num):\n",
    "    print(f\"{num} is a Disarium number.\")\n",
    "else:\n",
    "    print(f\"{num} is not a Disarium number.\")"
   ]
  },
  {
   "cell_type": "markdown",
   "id": "f0064401",
   "metadata": {},
   "source": [
    "### 2. Write a Python program to print all disarium numbers between 1 to 100?"
   ]
  },
  {
   "cell_type": "code",
   "execution_count": null,
   "id": "ca08c9fe-d03f-4e1b-956e-29a2ac2d9f9f",
   "metadata": {},
   "outputs": [],
   "source": [
    "def is_disarium_number(num):\n",
    "    num_str = str(num)\n",
    "    sum_of_powers = sum(int(digit) ** (index + 1) for index, digit in enumerate(num_str))\n",
    "    return sum_of_powers == num\n",
    "\n",
    "# Iterate through numbers from 1 to 100\n",
    "print(\"Disarium numbers between 1 and 100:\")\n",
    "for num in range(1, 101):\n",
    "    if is_disarium_number(num):\n",
    "        print(num)"
   ]
  },
  {
   "cell_type": "markdown",
   "id": "31df1e4a",
   "metadata": {},
   "source": [
    "### 3. Write a Python program to check if the given number is Happy Number?"
   ]
  },
  {
   "cell_type": "code",
   "execution_count": null,
   "id": "472a1af9-0874-4363-a1d7-57fdd4c57bf5",
   "metadata": {},
   "outputs": [],
   "source": [
    "def is_happy_number(num):\n",
    "    def get_next(number):\n",
    "        next_num = 0\n",
    "        while number > 0:\n",
    "            digit = number % 10\n",
    "            next_num += digit ** 2\n",
    "            number //= 10\n",
    "        return next_num\n",
    "\n",
    "    seen = set()\n",
    "    while num != 1 and num not in seen:\n",
    "        seen.add(num)\n",
    "        num = get_next(num)\n",
    "\n",
    "    return num == 1\n",
    "\n",
    "# Input a number from the user\n",
    "num = int(input(\"Enter a number: \"))\n",
    "\n",
    "# Check if it's a Happy Number and print the result\n",
    "if is_happy_number(num):\n",
    "    print(f\"{num} is a Happy Number.\")\n",
    "else:\n",
    "    print(f\"{num} is not a Happy Number.\")"
   ]
  },
  {
   "cell_type": "markdown",
   "id": "51b265e3",
   "metadata": {},
   "source": [
    "### 4. Write a Python program to print all happy numbers between 1 and 100?"
   ]
  },
  {
   "cell_type": "code",
   "execution_count": null,
   "id": "f53099a9-d264-4698-9d70-c41909dfeed9",
   "metadata": {},
   "outputs": [],
   "source": [
    "def is_happy_number(num):\n",
    "    def get_next(number):\n",
    "        next_num = 0\n",
    "        while number > 0:\n",
    "            digit = number % 10\n",
    "            next_num += digit ** 2\n",
    "            number //= 10\n",
    "        return next_num\n",
    "\n",
    "    seen = set()\n",
    "    while num != 1 and num not in seen:\n",
    "        seen.add(num)\n",
    "        num = get_next(num)\n",
    "\n",
    "    return num == 1\n",
    "\n",
    "def find_happy_numbers(limit):\n",
    "    happy_numbers = []\n",
    "    for num in range(1, limit + 1):\n",
    "        if is_happy_number(num):\n",
    "            happy_numbers.append(num)\n",
    "    return happy_numbers\n",
    "\n",
    "# Find and print all Happy Numbers between 1 and 100\n",
    "happy_numbers = find_happy_numbers(100)\n",
    "print(\"Happy Numbers between 1 and 100:\")\n",
    "print(happy_numbers)"
   ]
  },
  {
   "cell_type": "markdown",
   "id": "6a190ee0",
   "metadata": {},
   "source": [
    "### 5. Write a Python program to determine whether the given number is a Harshad Number?"
   ]
  },
  {
   "cell_type": "code",
   "execution_count": null,
   "id": "d5bca068-6bd5-4908-a1d3-291246cf47f3",
   "metadata": {},
   "outputs": [],
   "source": [
    "# Function to check if a number is a Harshad Number\n",
    "def is_harshad_number(num):\n",
    "    # Calculate the sum of the digits of the number\n",
    "    digit_sum = sum(int(digit) for digit in str(num))\n",
    "\n",
    "    # Check if the number is divisible by the sum of its digits\n",
    "    return num % digit_sum == 0\n",
    "\n",
    "# Input a number from the user\n",
    "num = int(input(\"Enter a number: \"))\n",
    "\n",
    "# Check if it's a Harshad Number and print the result\n",
    "if is_harshad_number(num):\n",
    "    print(f\"{num} is a Harshad Number.\")\n",
    "else:\n",
    "    print(f\"{num} is not a Harshad Number.\")"
   ]
  },
  {
   "cell_type": "markdown",
   "id": "7a7ea92e",
   "metadata": {},
   "source": [
    "### 6. Write a Python program to print all pronic numbers between 1 and 100?"
   ]
  },
  {
   "cell_type": "code",
   "execution_count": null,
   "id": "9d6d74c3-9c7d-46b0-83ce-c642a0179226",
   "metadata": {},
   "outputs": [],
   "source": []
  }
 ],
 "metadata": {
  "kernelspec": {
   "display_name": "Python 3 (ipykernel)",
   "language": "python",
   "name": "python3"
  },
  "language_info": {
   "codemirror_mode": {
    "name": "ipython",
    "version": 3
   },
   "file_extension": ".py",
   "mimetype": "text/x-python",
   "name": "python",
   "nbconvert_exporter": "python",
   "pygments_lexer": "ipython3",
   "version": "3.11.7"
  }
 },
 "nbformat": 4,
 "nbformat_minor": 5
}
