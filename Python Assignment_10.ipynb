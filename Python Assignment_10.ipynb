{
 "cells": [
  {
   "cell_type": "code",
   "execution_count": null,
   "id": "6221109c-ed1d-4fb3-b139-5d1e09eb86d4",
   "metadata": {},
   "outputs": [],
   "source": [
    "Python Assignment_10"
   ]
  },
  {
   "cell_type": "markdown",
   "id": "6720790a",
   "metadata": {},
   "source": [
    "### 1. Write a Python program to find sum of elements in list?"
   ]
  },
  {
   "cell_type": "code",
   "execution_count": 1,
   "id": "c2719193-8045-4e8f-bad0-e1a0844b471a",
   "metadata": {},
   "outputs": [
    {
     "name": "stdin",
     "output_type": "stream",
     "text": [
      "Enter a list of numbers separated by spaces:  12 14 16 18 20 22 24 26 28 30\n"
     ]
    },
    {
     "name": "stdout",
     "output_type": "stream",
     "text": [
      "Sum of elements in the list: 210\n"
     ]
    }
   ],
   "source": [
    "# Input a list of numbers\n",
    "num_list = [int(x) for x in input(\"Enter a list of numbers separated by spaces: \").split()]\n",
    "\n",
    "# Initialize a variable to store the sum\n",
    "total = 0\n",
    "\n",
    "# Calculate the sum using a loop\n",
    "for num in num_list:\n",
    "    total += num\n",
    "\n",
    "# Display the sum\n",
    "print(\"Sum of elements in the list:\", total)"
   ]
  },
  {
   "cell_type": "markdown",
   "id": "fe1137c3",
   "metadata": {},
   "source": [
    "### 2. Write a Python program to  Multiply all numbers in the list?"
   ]
  },
  {
   "cell_type": "code",
   "execution_count": 3,
   "id": "f461c941-5e49-40e4-8907-e1855a8b8796",
   "metadata": {},
   "outputs": [
    {
     "name": "stdin",
     "output_type": "stream",
     "text": [
      "Enter a list of numbers separated by spaces:  12 14 16 24\n"
     ]
    },
    {
     "name": "stdout",
     "output_type": "stream",
     "text": [
      "Product of elements in the list: 64512\n"
     ]
    }
   ],
   "source": [
    "# Input a list of numbers\n",
    "num_list = [int(x) for x in input(\"Enter a list of numbers separated by spaces: \").split()]\n",
    "\n",
    "# Initialize a variable to store the product\n",
    "product = 1\n",
    "\n",
    "# Calculate the product using a loop\n",
    "for num in num_list:\n",
    "    product *= num\n",
    "\n",
    "# Display the product\n",
    "print(\"Product of elements in the list:\", product)"
   ]
  },
  {
   "cell_type": "markdown",
   "id": "078681db",
   "metadata": {},
   "source": [
    "### 3. Write a Python program to find smallest number in a list?"
   ]
  },
  {
   "cell_type": "code",
   "execution_count": 5,
   "id": "f6501e30-2d84-4988-8286-65b25e30431e",
   "metadata": {},
   "outputs": [
    {
     "name": "stdin",
     "output_type": "stream",
     "text": [
      "Enter a list of numbers separated by spaces:  68 71 40 38 85 87 91 \n"
     ]
    },
    {
     "name": "stdout",
     "output_type": "stream",
     "text": [
      "Smallest number in the list: 38\n"
     ]
    }
   ],
   "source": [
    "# Input a list of numbers\n",
    "num_list = [int(x) for x in input(\"Enter a list of numbers separated by spaces: \").split()]\n",
    "\n",
    "# Find the smallest number using the built-in min() function\n",
    "smallest = min(num_list)\n",
    "\n",
    "# Display the smallest number\n",
    "print(\"Smallest number in the list:\", smallest)"
   ]
  },
  {
   "cell_type": "markdown",
   "id": "12b04397",
   "metadata": {},
   "source": [
    "### 4. Write a Python program to find largest number in a list?"
   ]
  },
  {
   "cell_type": "code",
   "execution_count": 7,
   "id": "cb5237e8-64d5-40e7-abd1-2280c3fc10bd",
   "metadata": {},
   "outputs": [
    {
     "name": "stdin",
     "output_type": "stream",
     "text": [
      "Enter a list of numbers separated by spaces:  38 40 85 71 68 91 87\n"
     ]
    },
    {
     "name": "stdout",
     "output_type": "stream",
     "text": [
      "Largest number in the list: 91\n"
     ]
    }
   ],
   "source": [
    "# Input a list of numbers\n",
    "num_list = [int(x) for x in input(\"Enter a list of numbers separated by spaces: \").split()]\n",
    "\n",
    "# Find the largest number using the built-in max() function\n",
    "largest = max(num_list)\n",
    "\n",
    "# Display the largest number\n",
    "print(\"Largest number in the list:\", largest)"
   ]
  },
  {
   "cell_type": "markdown",
   "id": "86442b51",
   "metadata": {},
   "source": [
    "### 5. Write a Python program to find second largest number in a list?"
   ]
  },
  {
   "cell_type": "code",
   "execution_count": 9,
   "id": "461f2d63-43f0-478c-84d9-41c32d4456ea",
   "metadata": {},
   "outputs": [
    {
     "name": "stdin",
     "output_type": "stream",
     "text": [
      "Enter a list of numbers separated by spaces:  38 40 91 87 85 68 71\n"
     ]
    },
    {
     "name": "stdout",
     "output_type": "stream",
     "text": [
      "Second largest number in the list: 87\n"
     ]
    }
   ],
   "source": [
    "# Input a list of numbers\n",
    "num_list = [int(x) for x in input(\"Enter a list of numbers separated by spaces: \").split()]\n",
    "\n",
    "# Initialize variables to store the largest and second largest numbers\n",
    "largest = second_largest = float('-inf')\n",
    "\n",
    "# Find the largest and second largest numbers\n",
    "for num in num_list:\n",
    "    if num > largest:\n",
    "        second_largest = largest\n",
    "        largest = num\n",
    "    elif num > second_largest and num != largest:\n",
    "        second_largest = num\n",
    "\n",
    "# Display the second largest number\n",
    "if second_largest != float('-inf'):\n",
    "    print(\"Second largest number in the list:\", second_largest)\n",
    "else:\n",
    "    print(\"There is no second largest number in the list.\")"
   ]
  },
  {
   "cell_type": "markdown",
   "id": "10964d7d",
   "metadata": {},
   "source": [
    "### 6. Write a Python program to find N largest elements from a list?"
   ]
  },
  {
   "cell_type": "code",
   "execution_count": 11,
   "id": "594c8ed3-ed34-4456-830a-e69cf90147c0",
   "metadata": {},
   "outputs": [
    {
     "name": "stdin",
     "output_type": "stream",
     "text": [
      "Enter a list of numbers separated by spaces:  91 38 87 40 85 68 71\n",
      "Enter the value of N:  3\n"
     ]
    },
    {
     "name": "stdout",
     "output_type": "stream",
     "text": [
      "The 3 largest elements in the list are: [91, 87, 85]\n"
     ]
    }
   ],
   "source": [
    "import heapq\n",
    "\n",
    "# Input a list of numbers\n",
    "num_list = [int(x) for x in input(\"Enter a list of numbers separated by spaces: \").split()]\n",
    "\n",
    "# Input the value of N\n",
    "N = int(input(\"Enter the value of N: \"))\n",
    "\n",
    "# Find the N largest elements using heapq.nlargest\n",
    "if N > 0 and N <= len(num_list):\n",
    "    largest_elements = heapq.nlargest(N, num_list)\n",
    "    print(f\"The {N} largest elements in the list are:\", largest_elements)\n",
    "else:\n",
    "    print(\"Invalid value of N. N should be greater than 0 and less than or equal to the length of the list.\")"
   ]
  },
  {
   "cell_type": "markdown",
   "id": "2f1a1e98",
   "metadata": {},
   "source": [
    "### 7. Write a Python program to print even numbers in a list?"
   ]
  },
  {
   "cell_type": "code",
   "execution_count": 13,
   "id": "aa23e07a-1a53-4038-bae3-a14c5219aa79",
   "metadata": {},
   "outputs": [
    {
     "name": "stdin",
     "output_type": "stream",
     "text": [
      "Enter a list of numbers separated by spaces:  91 38 87 40 85 68 91\n"
     ]
    },
    {
     "name": "stdout",
     "output_type": "stream",
     "text": [
      "Even numbers in the list: [38, 40, 68]\n"
     ]
    }
   ],
   "source": [
    "# Input a list of numbers\n",
    "num_list = [int(x) for x in input(\"Enter a list of numbers separated by spaces: \").split()]\n",
    "\n",
    "# Initialize a list to store even numbers\n",
    "even_numbers = []\n",
    "\n",
    "# Iterate through the list and add even numbers to the even_numbers list\n",
    "for num in num_list:\n",
    "    if num % 2 == 0:\n",
    "        even_numbers.append(num)\n",
    "\n",
    "# Display the even numbers\n",
    "print(\"Even numbers in the list:\", even_numbers)"
   ]
  },
  {
   "cell_type": "markdown",
   "id": "989bb324",
   "metadata": {},
   "source": [
    "### 8. Write a Python program to print odd numbers in a List?"
   ]
  },
  {
   "cell_type": "code",
   "execution_count": 15,
   "id": "7d4f4737-96ca-4362-bd58-c4197badba81",
   "metadata": {},
   "outputs": [
    {
     "name": "stdin",
     "output_type": "stream",
     "text": [
      "Enter a list of numbers separated by spaces:  91 38 87 40 85 68 91\n"
     ]
    },
    {
     "name": "stdout",
     "output_type": "stream",
     "text": [
      "Odd numbers in the list: [91, 87, 85, 91]\n"
     ]
    }
   ],
   "source": [
    "# Input a list of numbers\n",
    "num_list = [int(x) for x in input(\"Enter a list of numbers separated by spaces: \").split()]\n",
    "\n",
    "# Initialize a list to store odd numbers\n",
    "odd_numbers = []\n",
    "\n",
    "# Iterate through the list and add odd numbers to the odd_numbers list\n",
    "for num in num_list:\n",
    "    if num % 2 != 0:\n",
    "        odd_numbers.append(num)\n",
    "\n",
    "# Display the odd numbers\n",
    "print(\"Odd numbers in the list:\", odd_numbers)"
   ]
  },
  {
   "cell_type": "markdown",
   "id": "185b7b13",
   "metadata": {},
   "source": [
    "### 9. Write a Python program to Remove empty List from List?"
   ]
  },
  {
   "cell_type": "code",
   "execution_count": 17,
   "id": "fca32aa9-6bba-49b8-9e4b-8aab3a82e6d6",
   "metadata": {},
   "outputs": [
    {
     "name": "stdout",
     "output_type": "stream",
     "text": [
      "List without empty lists: [[1, 2, 3], [4, 5], [6]]\n"
     ]
    }
   ],
   "source": [
    "# Input a list of lists\n",
    "list_of_lists = [[1, 2, 3], [], [4, 5], [], [6]]\n",
    "\n",
    "# Remove empty lists using a list comprehension\n",
    "non_empty_lists = [lst for lst in list_of_lists if lst]\n",
    "\n",
    "# Display the list without empty lists\n",
    "print(\"List without empty lists:\", non_empty_lists)"
   ]
  },
  {
   "cell_type": "markdown",
   "id": "278cfacc",
   "metadata": {},
   "source": [
    "### 10. Write a Python program to Cloning or Copying a list?"
   ]
  },
  {
   "cell_type": "code",
   "execution_count": 19,
   "id": "bcc15b92-fa60-468d-9295-8693d7f60625",
   "metadata": {},
   "outputs": [
    {
     "name": "stdout",
     "output_type": "stream",
     "text": [
      "Copied list: [1, 2, 3, 4, 5]\n"
     ]
    }
   ],
   "source": [
    "# Original list\n",
    "original_list = [1, 2, 3, 4, 5]\n",
    "\n",
    "# Create a copy of the list using the copy() method\n",
    "copied_list = original_list.copy()\n",
    "\n",
    "# Display the copied list\n",
    "print(\"Copied list:\", copied_list)"
   ]
  },
  {
   "cell_type": "markdown",
   "id": "b359bedf",
   "metadata": {},
   "source": [
    "### 11. Write a Python program to Count occurrences of an element in a list?"
   ]
  },
  {
   "cell_type": "code",
   "execution_count": 25,
   "id": "25d235e4-e87f-4c8b-ad22-414ac51338e3",
   "metadata": {},
   "outputs": [
    {
     "name": "stdin",
     "output_type": "stream",
     "text": [
      "Enter a list of numbers separated by spaces:  2 47 49 16 24 49 49 24 24 24\n",
      "Enter the element to count:  24\n"
     ]
    },
    {
     "name": "stdout",
     "output_type": "stream",
     "text": [
      "The element 24 appears 4 times in the list.\n"
     ]
    }
   ],
   "source": [
    "# Input a list of numbers\n",
    "num_list = [int(x) for x in input(\"Enter a list of numbers separated by spaces: \").split()]\n",
    "\n",
    "# Input the element to count\n",
    "element_to_count = int(input(\"Enter the element to count: \"))\n",
    "\n",
    "# Use the count() method to count occurrences\n",
    "count = num_list.count(element_to_count)\n",
    "\n",
    "# Display the count\n",
    "print(f\"The element {element_to_count} appears {count} times in the list.\")"
   ]
  },
  {
   "cell_type": "code",
   "execution_count": null,
   "id": "c3755ed6-1bb5-45e8-9617-2056df20f339",
   "metadata": {},
   "outputs": [],
   "source": []
  }
 ],
 "metadata": {
  "kernelspec": {
   "display_name": "Python 3 (ipykernel)",
   "language": "python",
   "name": "python3"
  },
  "language_info": {
   "codemirror_mode": {
    "name": "ipython",
    "version": 3
   },
   "file_extension": ".py",
   "mimetype": "text/x-python",
   "name": "python",
   "nbconvert_exporter": "python",
   "pygments_lexer": "ipython3",
   "version": "3.11.7"
  }
 },
 "nbformat": 4,
 "nbformat_minor": 5
}
