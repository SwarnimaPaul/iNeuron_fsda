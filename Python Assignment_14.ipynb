{
 "cells": [
  {
   "cell_type": "markdown",
   "id": "b0026bb4-ee4d-4b6f-842a-a83ea5cb6341",
   "metadata": {},
   "source": [
    "Python Assignment_14"
   ]
  },
  {
   "cell_type": "markdown",
   "id": "a8074819",
   "metadata": {},
   "source": [
    "### 1. Define a class with a generator which can iterate the numbers, which are divisible by 7, between a given range 0 and n."
   ]
  },
  {
   "cell_type": "code",
   "execution_count": 1,
   "id": "c861fe89-9c2b-44f4-be23-c755695d8288",
   "metadata": {},
   "outputs": [
    {
     "name": "stdout",
     "output_type": "stream",
     "text": [
      "0\n",
      "7\n",
      "14\n",
      "21\n",
      "28\n",
      "35\n",
      "42\n",
      "49\n"
     ]
    }
   ],
   "source": [
    "class DivisibleBySeven:\n",
    "    def __init__(self, n):\n",
    "        self.n = n\n",
    "\n",
    "    def generate_divisible_by_seven(self):\n",
    "        for i in range(self.n + 1):\n",
    "            if i % 7 == 0:\n",
    "                yield i\n",
    "\n",
    "# Usage example:\n",
    "n = 50  # Replace with the desired range\n",
    "divisible_by_seven_iterator = DivisibleBySeven(n).generate_divisible_by_seven()\n",
    "\n",
    "for number in divisible_by_seven_iterator:\n",
    "    print(number)"
   ]
  },
  {
   "cell_type": "markdown",
   "id": "8127371b",
   "metadata": {},
   "source": [
    "\n",
    "### 2. Write a program to compute the frequency of the words from the input. The output should output after sorting the key alphanumerically."
   ]
  },
  {
   "cell_type": "code",
   "execution_count": 3,
   "id": "f31f342b-a43f-461e-9553-b52d6c4b27be",
   "metadata": {},
   "outputs": [
    {
     "name": "stdout",
     "output_type": "stream",
     "text": [
      "a: 1\n",
      "as: 1\n",
      "does: 1\n",
      "example: 1\n",
      "is: 2\n",
      "simple: 3\n",
      "this: 1\n"
     ]
    }
   ],
   "source": [
    "def word_frequency(input_string):\n",
    "    # Split the input string into words\n",
    "    words = input_string.split()\n",
    "\n",
    "    # Create a dictionary to store word frequencies\n",
    "    word_freq = {}\n",
    "\n",
    "    # Count the frequency of each word\n",
    "    for word in words:\n",
    "        # Remove punctuation and convert to lowercase for consistency\n",
    "        word = word.strip('.,!?()-_').lower()\n",
    "\n",
    "        # Update the word frequency in the dictionary\n",
    "        if word:\n",
    "            word_freq[word] = word_freq.get(word, 0) + 1\n",
    "\n",
    "    # Sort the dictionary by keys (words) in alphanumerical order\n",
    "    sorted_word_freq = dict(sorted(word_freq.items()))\n",
    "\n",
    "    return sorted_word_freq\n",
    "\n",
    "# Input string\n",
    "input_text = \"This is a simple example. Simple is as simple does.\"\n",
    "\n",
    "# Calculate word frequency\n",
    "result = word_frequency(input_text)\n",
    "\n",
    "# Display the sorted word frequencies\n",
    "for word, frequency in result.items():\n",
    "    print(f\"{word}: {frequency}\")"
   ]
  },
  {
   "cell_type": "markdown",
   "id": "4e869c3c",
   "metadata": {},
   "source": [
    "\n",
    "### 3. Define a class Person and its two child classes: Male and Female. All classes have a method \"getGender\" which can print \"Male\" for Male class and \"Female\" for Female class."
   ]
  },
  {
   "cell_type": "code",
   "execution_count": 5,
   "id": "3bf7e7ac-d8c0-4893-a378-4bcbe5076c00",
   "metadata": {},
   "outputs": [
    {
     "name": "stdout",
     "output_type": "stream",
     "text": [
      "Unknown\n",
      "Male\n",
      "Female\n"
     ]
    }
   ],
   "source": [
    "class Person:\n",
    "    def getGender(self):\n",
    "        return \"Unknown\"\n",
    "\n",
    "class Male(Person):\n",
    "    def getGender(self):\n",
    "        return \"Male\"\n",
    "\n",
    "class Female(Person):\n",
    "    def getGender(self):\n",
    "        return \"Female\"\n",
    "\n",
    "# Example usage:\n",
    "person = Person()\n",
    "male = Male()\n",
    "female = Female()\n",
    "\n",
    "print(person.getGender())  # Output: \"Unknown\"\n",
    "print(male.getGender())    # Output: \"Male\"\n",
    "print(female.getGender())  # Output: \"Female\""
   ]
  },
  {
   "cell_type": "markdown",
   "id": "58b5940f",
   "metadata": {},
   "source": [
    "\n",
    "### 4. Please write a program to generate all sentences where subject is in [\"I\", \"You\"] and verb is in ['Play', \"Love\"] and the object is in [\"Hockey\",\"Football\"]."
   ]
  },
  {
   "cell_type": "code",
   "execution_count": 9,
   "id": "1962187d-55d8-4876-a9cf-cb4a45322d04",
   "metadata": {},
   "outputs": [
    {
     "name": "stdout",
     "output_type": "stream",
     "text": [
      "I Play Hockey.\n",
      "I Play Football.\n",
      "I Love Hockey.\n",
      "I Love Football.\n",
      "You Play Hockey.\n",
      "You Play Football.\n",
      "You Love Hockey.\n",
      "You Love Football.\n"
     ]
    }
   ],
   "source": [
    "subjects = [\"I\", \"You\"]\n",
    "verbs = [\"Play\", \"Love\"]\n",
    "objects = [\"Hockey\", \"Football\"]\n",
    "\n",
    "sentences = []\n",
    "\n",
    "for subject in subjects:\n",
    "    for verb in verbs:\n",
    "        for obj in objects:\n",
    "            sentence = f\"{subject} {verb} {obj}.\"\n",
    "            sentences.append(sentence)\n",
    "\n",
    "# Print all generated sentences\n",
    "for sentence in sentences:\n",
    "    print(sentence)"
   ]
  },
  {
   "cell_type": "markdown",
   "id": "0ddf4f59",
   "metadata": {},
   "source": [
    "\n",
    "### 5. Please write a program to compress and decompress the string \"hello world!hello world!hello world!hello world!\""
   ]
  },
  {
   "cell_type": "code",
   "execution_count": 11,
   "id": "1db639af-e60b-4926-bba6-99fc2b967693",
   "metadata": {},
   "outputs": [
    {
     "name": "stdout",
     "output_type": "stream",
     "text": [
      "Original String:\n",
      "hello world!hello world!hello world!hello world!\n",
      "\n",
      "Compressed Data:\n",
      "b'\\x1f\\x8b\\x08\\x00\\xcdz\\xb6f\\x02\\xff\\xcbH\\xcd\\xc9\\xc9W(\\xcf/\\xcaIQ\\xcc \\x82\\r\\x00\\xd3\\xe6\\xcf\\xae0\\x00\\x00\\x00'\n",
      "\n",
      "Decompressed String:\n",
      "hello world!hello world!hello world!hello world!\n"
     ]
    }
   ],
   "source": [
    "import gzip\n",
    "import io\n",
    "\n",
    "# Original string\n",
    "original_string = \"hello world!hello world!hello world!hello world!\"\n",
    "\n",
    "# Compress the string\n",
    "compressed_data = io.BytesIO()\n",
    "with gzip.GzipFile(fileobj=compressed_data, mode='wb') as f:\n",
    "    f.write(original_string.encode('utf-8'))\n",
    "\n",
    "compressed_data.seek(0)  # Reset the file pointer to the beginning\n",
    "\n",
    "# Decompress the string\n",
    "decompressed_data = io.BytesIO(compressed_data.read())\n",
    "with gzip.GzipFile(fileobj=decompressed_data, mode='rb') as f:\n",
    "    decompressed_string = f.read().decode('utf-8')\n",
    "\n",
    "# Print the results\n",
    "print(\"Original String:\")\n",
    "print(original_string)\n",
    "\n",
    "print(\"\\nCompressed Data:\")\n",
    "print(compressed_data.getvalue())\n",
    "\n",
    "print(\"\\nDecompressed String:\")\n",
    "print(decompressed_string)"
   ]
  },
  {
   "cell_type": "markdown",
   "id": "2aeb595b",
   "metadata": {},
   "source": [
    "\n",
    "### 6. Please write a binary search function which searches an item in a sorted list. The function should return the index of element to be searched in the list."
   ]
  },
  {
   "cell_type": "code",
   "execution_count": 13,
   "id": "b392061e-7aa4-436d-b620-31bf041b0399",
   "metadata": {},
   "outputs": [
    {
     "name": "stdout",
     "output_type": "stream",
     "text": [
      "Element 7 found at index 3.\n"
     ]
    }
   ],
   "source": [
    "def binary_search(sorted_list, target):\n",
    "    left, right = 0, len(sorted_list) - 1\n",
    "\n",
    "    while left <= right:\n",
    "        mid = (left + right) // 2\n",
    "\n",
    "        if sorted_list[mid] == target:\n",
    "            return mid  # Element found, return its index\n",
    "        elif sorted_list[mid] < target:\n",
    "            left = mid + 1  # Adjust the left boundary\n",
    "        else:\n",
    "            right = mid - 1  # Adjust the right boundary\n",
    "\n",
    "    return -1  # Element not found in the list\n",
    "\n",
    "# Test case\n",
    "sorted_list = [1, 3, 5, 7, 9, 11, 13, 15]\n",
    "target = 7\n",
    "index = binary_search(sorted_list, target)\n",
    "\n",
    "if index != -1:\n",
    "    print(f\"Element {target} found at index {index}.\")\n",
    "else:\n",
    "    print(f\"Element {target} not found in the list.\")"
   ]
  },
  {
   "cell_type": "code",
   "execution_count": null,
   "id": "551985d9-3e37-4250-8fd5-0baa49b5362d",
   "metadata": {},
   "outputs": [],
   "source": []
  }
 ],
 "metadata": {
  "kernelspec": {
   "display_name": "Python 3 (ipykernel)",
   "language": "python",
   "name": "python3"
  },
  "language_info": {
   "codemirror_mode": {
    "name": "ipython",
    "version": 3
   },
   "file_extension": ".py",
   "mimetype": "text/x-python",
   "name": "python",
   "nbconvert_exporter": "python",
   "pygments_lexer": "ipython3",
   "version": "3.11.7"
  }
 },
 "nbformat": 4,
 "nbformat_minor": 5
}
