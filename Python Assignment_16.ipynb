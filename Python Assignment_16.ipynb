{
 "cells": [
  {
   "cell_type": "code",
   "execution_count": null,
   "id": "cb0daae8-c8b8-4de1-b520-ae0e28d60c7d",
   "metadata": {},
   "outputs": [],
   "source": [
    "Python Assignment_16"
   ]
  },
  {
   "cell_type": "markdown",
   "id": "d82eeee0",
   "metadata": {},
   "source": [
    "### 1. Write a function that stutters a word as if someone is struggling to read it. The first two letters are repeated twice with an ellipsis ... and space after each, and then the word is pronounced with a question mark ?. Examples stutter('incredible') ➞ 'in... in... incredible?' stutter('enthusiastic') ➞ 'en... en... enthusiastic?' stutter('outstanding') ➞ 'ou... ou... outstanding?'\n",
    "\n",
    "### Hint :- Assume all input is in lower case and at least two characters long."
   ]
  },
  {
   "cell_type": "code",
   "execution_count": 1,
   "id": "03d174a4-fbaa-4e79-91af-b1dae9cc2d57",
   "metadata": {},
   "outputs": [
    {
     "name": "stdout",
     "output_type": "stream",
     "text": [
      "in... in... incredible?\n",
      "en... en... enthusiastic?\n",
      "ou... ou... outstanding?\n"
     ]
    }
   ],
   "source": [
    "def stutter(word):\n",
    "    if len(word) >= 2:\n",
    "        stuttered = word[:2] + '... ' + word[:2] + '... ' + word + '?'\n",
    "        return stuttered\n",
    "    else:\n",
    "        return \"Input word should be at least two characters long.\"\n",
    "\n",
    "# Test cases\n",
    "print(stutter('incredible'))    # Output: 'in... in... incredible?'\n",
    "print(stutter('enthusiastic'))  # Output: 'en... en... enthusiastic?'\n",
    "print(stutter('outstanding'))   # Output: 'ou... ou... outstanding?'"
   ]
  },
  {
   "cell_type": "markdown",
   "id": "47e1bd41",
   "metadata": {},
   "source": [
    "\n",
    "### 2. Create a function that takes an angle in radians and returns the corresponding angle in degrees rounded to one decimal place."
   ]
  },
  {
   "cell_type": "code",
   "execution_count": 3,
   "id": "83af5167-3044-4488-8f99-e331b370c8ac",
   "metadata": {},
   "outputs": [
    {
     "name": "stdout",
     "output_type": "stream",
     "text": [
      "90.0\n"
     ]
    }
   ],
   "source": [
    "import math\n",
    "\n",
    "def radians_to_degrees(radians):\n",
    "    degrees = radians * 180 / math.pi\n",
    "    return round(degrees, 1)\n",
    "\n",
    "# Test cases\n",
    "angle_in_radians = 1.5708  # This is approximately 90 degrees in radians\n",
    "result = radians_to_degrees(angle_in_radians)\n",
    "print(result)  # Output: 90.0"
   ]
  },
  {
   "cell_type": "markdown",
   "id": "07cad4d9",
   "metadata": {},
   "source": [
    "\n",
    "### 3. In this challenge, establish if a given integer num is a Curzon number. If 1 plus 2 elevated to num is exactly divisible by 1 plus 2 multiplied by num, then num is a Curzon number. Given a non-negative integer num, implement a function that returns True if num is a Curzon number, or False otherwise."
   ]
  },
  {
   "cell_type": "code",
   "execution_count": 5,
   "id": "efae7e28-9c5d-44cb-9f3a-b9502de8c38c",
   "metadata": {},
   "outputs": [
    {
     "name": "stdout",
     "output_type": "stream",
     "text": [
      "True\n",
      "False\n"
     ]
    }
   ],
   "source": [
    "def is_curzon(num):\n",
    "    numerator = 2 ** num + 1\n",
    "    denominator = 2 * num + 1\n",
    "    return numerator % denominator == 0\n",
    "\n",
    "# Test cases\n",
    "print(is_curzon(5))  # Output: True, because 2^5 + 1 = 33, and 2*5 + 1 = 11, and 33 is divisible by 11.\n",
    "print(is_curzon(10)) # Output: False, because 2^10 + 1 = 1025, and 2*10 + 1 = 21, and 1025 is not divisible by 21."
   ]
  },
  {
   "cell_type": "markdown",
   "id": "cfad2cfc",
   "metadata": {},
   "source": [
    "\n",
    "### 4. Given the side length x find the area of a hexagon."
   ]
  },
  {
   "cell_type": "code",
   "execution_count": 7,
   "id": "80b2fecf-94da-4174-9074-7a474237e0e2",
   "metadata": {},
   "outputs": [
    {
     "name": "stdout",
     "output_type": "stream",
     "text": [
      "The area of the hexagon with side length 5 is 64.95 square units.\n"
     ]
    }
   ],
   "source": [
    "import math\n",
    "\n",
    "def hexagon_area(side_length):\n",
    "    area = (3 * math.sqrt(3) * (side_length ** 2)) / 2\n",
    "    return area\n",
    "\n",
    "# Test case\n",
    "side_length = 5  # Replace with the desired side length\n",
    "area = hexagon_area(side_length)\n",
    "print(f\"The area of the hexagon with side length {side_length} is {area:.2f} square units.\")"
   ]
  },
  {
   "cell_type": "markdown",
   "id": "dbc79e02",
   "metadata": {},
   "source": [
    "\n",
    "### 5. Create a function that returns a base-2 (binary) representation of a base-10 (decimal) string number. To convert is simple: ((2) means base-2 and (10) means base-10) 010101001(2) = 1 + 8 + 32 + 128."
   ]
  },
  {
   "cell_type": "code",
   "execution_count": 9,
   "id": "bfaf9764-9dc5-45c4-b206-aac1c9f803ce",
   "metadata": {},
   "outputs": [
    {
     "name": "stdout",
     "output_type": "stream",
     "text": [
      "Binary representation of 42: 101010\n"
     ]
    }
   ],
   "source": [
    "def decimal_to_binary(decimal_str):\n",
    "    try:\n",
    "        decimal_int = int(decimal_str)\n",
    "        binary_str = bin(decimal_int)[2:]  # Convert to binary and remove the '0b' prefix\n",
    "        return binary_str\n",
    "    except ValueError:\n",
    "        return \"Invalid input: Not a valid decimal number.\"\n",
    "\n",
    "# Test cases\n",
    "decimal_str = \"42\"  # Replace with the desired decimal number as a string\n",
    "binary_result = decimal_to_binary(decimal_str)\n",
    "print(f\"Binary representation of {decimal_str}: {binary_result}\")"
   ]
  },
  {
   "cell_type": "code",
   "execution_count": null,
   "id": "bb38081b-9f84-4cfd-a8c1-741d5b9f6fea",
   "metadata": {},
   "outputs": [],
   "source": []
  }
 ],
 "metadata": {
  "kernelspec": {
   "display_name": "Python 3 (ipykernel)",
   "language": "python",
   "name": "python3"
  },
  "language_info": {
   "codemirror_mode": {
    "name": "ipython",
    "version": 3
   },
   "file_extension": ".py",
   "mimetype": "text/x-python",
   "name": "python",
   "nbconvert_exporter": "python",
   "pygments_lexer": "ipython3",
   "version": "3.11.7"
  }
 },
 "nbformat": 4,
 "nbformat_minor": 5
}
