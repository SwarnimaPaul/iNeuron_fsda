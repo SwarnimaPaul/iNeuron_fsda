{
 "cells": [
  {
   "cell_type": "markdown",
   "id": "84a41a9f",
   "metadata": {},
   "source": [
    "# Programming Basic Assignment 6"
   ]
  },
  {
   "cell_type": "code",
   "execution_count": null,
   "id": "7f168797-b687-44e8-aa89-a1342e4dedf8",
   "metadata": {},
   "outputs": [],
   "source": [
    "Python_Assignment_6"
   ]
  },
  {
   "cell_type": "markdown",
   "id": "a4b40558",
   "metadata": {},
   "source": [
    "### 1. Write a Python Program to Display Fibonacci Sequence Using Recursion?"
   ]
  },
  {
   "cell_type": "code",
   "execution_count": 2,
   "id": "19173809-e825-4ed3-95a3-16184b9bcc07",
   "metadata": {},
   "outputs": [
    {
     "name": "stdin",
     "output_type": "stream",
     "text": [
      "Enter the number of terms in the Fibonacci sequence:  16\n"
     ]
    },
    {
     "name": "stdout",
     "output_type": "stream",
     "text": [
      "Fibonacci sequence:\n",
      "0 1 1 2 3 5 8 13 21 34 55 89 144 233 377 610 "
     ]
    }
   ],
   "source": [
    "def fibonacci(n):\n",
    "    if n <= 0:\n",
    "        return []\n",
    "    elif n == 1:\n",
    "        return [0]\n",
    "    elif n == 2:\n",
    "        return [0, 1]\n",
    "    else:\n",
    "        fib_seq = fibonacci(n - 1)\n",
    "        fib_seq.append(fib_seq[-1] + fib_seq[-2])\n",
    "        return fib_seq\n",
    "\n",
    "# Input the number of terms in the Fibonacci sequence\n",
    "n = int(input(\"Enter the number of terms in the Fibonacci sequence: \"))\n",
    "\n",
    "if n <= 0:\n",
    "    print(\"Invalid input. Please enter a positive integer.\")\n",
    "else:\n",
    "    fib_sequence = fibonacci(n)\n",
    "    print(\"Fibonacci sequence:\")\n",
    "    for num in fib_sequence:\n",
    "        print(num, end=\" \")"
   ]
  },
  {
   "cell_type": "markdown",
   "id": "d7a57f60",
   "metadata": {},
   "source": [
    "### 2. Write a Python Program to Find Factorial of Number Using Recursion?"
   ]
  },
  {
   "cell_type": "code",
   "execution_count": 4,
   "id": "ff76ed6b-1bde-4d2d-9215-689ba5c01c89",
   "metadata": {},
   "outputs": [
    {
     "name": "stdin",
     "output_type": "stream",
     "text": [
      "Enter a non-negative integer:  16\n"
     ]
    },
    {
     "name": "stdout",
     "output_type": "stream",
     "text": [
      "The factorial of 16 is 20922789888000.\n"
     ]
    }
   ],
   "source": [
    "def factorial(n):\n",
    "    if n == 0:\n",
    "        return 1\n",
    "    else:\n",
    "        return n * factorial(n - 1)\n",
    "\n",
    "# Input the number for which you want to find the factorial\n",
    "num = int(input(\"Enter a non-negative integer: \"))\n",
    "\n",
    "if num < 0:\n",
    "    print(\"Factorial is not defined for negative numbers.\")\n",
    "else:\n",
    "    result = factorial(num)\n",
    "    print(f\"The factorial of {num} is {result}.\")"
   ]
  },
  {
   "cell_type": "markdown",
   "id": "0357b86f",
   "metadata": {},
   "source": [
    "### 3. Write a Python Program to calculate your Body Mass Index?"
   ]
  },
  {
   "cell_type": "code",
   "execution_count": 8,
   "id": "80153088-0ff4-439b-8f6f-612b66eaac30",
   "metadata": {},
   "outputs": [
    {
     "name": "stdin",
     "output_type": "stream",
     "text": [
      "Enter your weight (in kilograms):  68\n",
      "Enter your height (in meters):  1.6246\n"
     ]
    },
    {
     "name": "stdout",
     "output_type": "stream",
     "text": [
      "Your Body Mass Index (BMI) is: 25.764161623799318\n",
      "You are overweight.\n"
     ]
    }
   ],
   "source": [
    "# Input weight (in kilograms) and height (in meters)\n",
    "weight = float(input(\"Enter your weight (in kilograms): \"))\n",
    "height = float(input(\"Enter your height (in meters): \"))\n",
    "\n",
    "# Calculate BMI\n",
    "bmi = weight / (height ** 2)\n",
    "\n",
    "# Display the BMI\n",
    "print(\"Your Body Mass Index (BMI) is:\", bmi)\n",
    "\n",
    "# Interpret the BMI\n",
    "if bmi < 18.5:\n",
    "    print(\"You are underweight.\")\n",
    "elif 18.5 <= bmi < 24.9:\n",
    "    print(\"You have a normal weight.\")\n",
    "elif 24.9 <= bmi < 29.9:\n",
    "    print(\"You are overweight.\")\n",
    "else:\n",
    "    print(\"You are obese.\")"
   ]
  },
  {
   "cell_type": "markdown",
   "id": "96d344a4",
   "metadata": {},
   "source": [
    "### 4. Write a Python Program to calculate the natural logarithm of any number?"
   ]
  },
  {
   "cell_type": "code",
   "execution_count": 10,
   "id": "ab8e69b9-bb00-4d3c-8a4e-c5575a92f7da",
   "metadata": {},
   "outputs": [
    {
     "name": "stdin",
     "output_type": "stream",
     "text": [
      "Enter a positive number:  16\n"
     ]
    },
    {
     "name": "stdout",
     "output_type": "stream",
     "text": [
      "The natural logarithm of 16.0 is 2.7726\n"
     ]
    }
   ],
   "source": [
    "import math\n",
    "\n",
    "# Input a number\n",
    "num = float(input(\"Enter a positive number: \"))\n",
    "\n",
    "# Check if the number is positive\n",
    "if num <= 0:\n",
    "    print(\"Please enter a positive number.\")\n",
    "else:\n",
    "    # Calculate the natural logarithm\n",
    "    result = math.log(num)\n",
    "\n",
    "    # Display the result\n",
    "    print(f\"The natural logarithm of {num} is {result:.4f}\")"
   ]
  },
  {
   "cell_type": "markdown",
   "id": "11c0d92c",
   "metadata": {},
   "source": [
    "\n",
    "### 5. Write a Python Program for cube sum of first n natural numbers?\n"
   ]
  },
  {
   "cell_type": "code",
   "execution_count": 12,
   "id": "9df4f517-5755-437f-884b-1c6838ccbc22",
   "metadata": {},
   "outputs": [
    {
     "name": "stdin",
     "output_type": "stream",
     "text": [
      "Enter a positive integer (n):  16\n"
     ]
    },
    {
     "name": "stdout",
     "output_type": "stream",
     "text": [
      "The cube sum of the first 16 natural numbers is 18496.\n"
     ]
    }
   ],
   "source": [
    "# Input the value of n\n",
    "n = int(input(\"Enter a positive integer (n): \"))\n",
    "\n",
    "# Check if n is a positive integer\n",
    "if n <= 0:\n",
    "    print(\"Please enter a positive integer.\")\n",
    "else:\n",
    "    # Calculate the cube sum\n",
    "    cube_sum = sum([i ** 3 for i in range(1, n + 1)])\n",
    "\n",
    "    # Display the cube sum\n",
    "    print(f\"The cube sum of the first {n} natural numbers is {cube_sum}.\")"
   ]
  },
  {
   "cell_type": "code",
   "execution_count": null,
   "id": "2638c3ef-382b-4c8b-b026-bf4530404258",
   "metadata": {},
   "outputs": [],
   "source": []
  }
 ],
 "metadata": {
  "kernelspec": {
   "display_name": "Python 3 (ipykernel)",
   "language": "python",
   "name": "python3"
  },
  "language_info": {
   "codemirror_mode": {
    "name": "ipython",
    "version": 3
   },
   "file_extension": ".py",
   "mimetype": "text/x-python",
   "name": "python",
   "nbconvert_exporter": "python",
   "pygments_lexer": "ipython3",
   "version": "3.11.7"
  }
 },
 "nbformat": 4,
 "nbformat_minor": 5
}
