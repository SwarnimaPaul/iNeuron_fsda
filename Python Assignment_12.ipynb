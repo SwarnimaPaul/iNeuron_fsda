{
 "cells": [
  {
   "cell_type": "code",
   "execution_count": null,
   "id": "141506b2-86da-411e-a841-0343ddcca60e",
   "metadata": {},
   "outputs": [],
   "source": [
    "Python Assignment_12"
   ]
  },
  {
   "cell_type": "markdown",
   "id": "d2ec324d",
   "metadata": {},
   "source": [
    "### 1. Write a Python program to Extract Unique values dictionary values?"
   ]
  },
  {
   "cell_type": "code",
   "execution_count": 1,
   "id": "888a7d52-1eb5-48ed-ad19-b75ede822c3f",
   "metadata": {},
   "outputs": [
    {
     "name": "stdout",
     "output_type": "stream",
     "text": [
      "Unique values from dictionary values: [1, 2, 3]\n"
     ]
    }
   ],
   "source": [
    "# Input a dictionary\n",
    "input_dict = {\n",
    "    'a': 1,\n",
    "    'b': 2,\n",
    "    'c': 1,\n",
    "    'd': 3,\n",
    "    'e': 2\n",
    "}\n",
    "\n",
    "# Extract unique values from dictionary values\n",
    "unique_values = list(set(input_dict.values()))\n",
    "\n",
    "# Display the unique values\n",
    "print(\"Unique values from dictionary values:\", unique_values)"
   ]
  },
  {
   "cell_type": "markdown",
   "id": "203bcbc3",
   "metadata": {},
   "source": [
    "### 2. Write a Python program to find the sum of all items in a dictionary?"
   ]
  },
  {
   "cell_type": "code",
   "execution_count": 3,
   "id": "bcd87878-4be5-46b1-b7c1-2f13fa396a5c",
   "metadata": {},
   "outputs": [
    {
     "name": "stdout",
     "output_type": "stream",
     "text": [
      "Sum of all items in the dictionary: 150\n"
     ]
    }
   ],
   "source": [
    "# Input a dictionary with numeric values\n",
    "input_dict = {\n",
    "    'a': 10,\n",
    "    'b': 20,\n",
    "    'c': 30,\n",
    "    'd': 40,\n",
    "    'e': 50\n",
    "}\n",
    "\n",
    "# Initialize a variable to store the sum\n",
    "sum_of_values = 0\n",
    "\n",
    "# Iterate through the values and calculate the sum\n",
    "for value in input_dict.values():\n",
    "    sum_of_values += value\n",
    "\n",
    "# Display the sum of values\n",
    "print(\"Sum of all items in the dictionary:\", sum_of_values)"
   ]
  },
  {
   "cell_type": "markdown",
   "id": "edfbc682",
   "metadata": {},
   "source": [
    "### 3. Write a Python program to Merging two Dictionaries?"
   ]
  },
  {
   "cell_type": "code",
   "execution_count": 5,
   "id": "37d927e9-c981-42fc-b230-f07c134e36f0",
   "metadata": {},
   "outputs": [
    {
     "name": "stdout",
     "output_type": "stream",
     "text": [
      "Merged dictionary using update(): {'a': 1, 'b': 3, 'c': 4}\n"
     ]
    }
   ],
   "source": [
    "# Input two dictionaries\n",
    "dict1 = {'a': 1, 'b': 2}\n",
    "dict2 = {'b': 3, 'c': 4}\n",
    "\n",
    "# Merge dict2 into dict1 using the update() method\n",
    "dict1.update(dict2)\n",
    "\n",
    "# Display the merged dictionary\n",
    "print(\"Merged dictionary using update():\", dict1)"
   ]
  },
  {
   "cell_type": "markdown",
   "id": "62eaf687",
   "metadata": {},
   "source": [
    "### 4. Write a Python program to convert key-values list to flat dictionary?"
   ]
  },
  {
   "cell_type": "code",
   "execution_count": 7,
   "id": "152fd935-5469-40d2-8981-e44adf43853f",
   "metadata": {},
   "outputs": [
    {
     "name": "stdout",
     "output_type": "stream",
     "text": [
      "Flat dictionary: {'a': 1, 'b': 2, 'c': 3}\n"
     ]
    }
   ],
   "source": [
    "# Input a list of key-value pairs\n",
    "key_value_list = [('a', 1), ('b', 2), ('c', 3)]\n",
    "\n",
    "# Initialize an empty dictionary\n",
    "flat_dict = {}\n",
    "\n",
    "# Convert the list to a flat dictionary\n",
    "for key, value in key_value_list:\n",
    "    flat_dict[key] = value\n",
    "\n",
    "# Display the flat dictionary\n",
    "print(\"Flat dictionary:\", flat_dict)"
   ]
  },
  {
   "cell_type": "markdown",
   "id": "fcc5015f",
   "metadata": {},
   "source": [
    "### 5. Write a Python program to insertion at the beginning in OrderedDict?"
   ]
  },
  {
   "cell_type": "code",
   "execution_count": 9,
   "id": "aa303a98-e664-40f9-96c6-7385c8a51ebb",
   "metadata": {},
   "outputs": [
    {
     "name": "stdout",
     "output_type": "stream",
     "text": [
      "Initial OrderedDict: OrderedDict([('a', 1), ('b', 2), ('c', 3)])\n",
      "OrderedDict after insertion at the beginning: OrderedDict([('x', 0), ('a', 1), ('b', 2), ('c', 3)])\n"
     ]
    }
   ],
   "source": [
    "from collections import OrderedDict\n",
    "\n",
    "# Create an OrderedDict\n",
    "ordered_dict = OrderedDict([('a', 1), ('b', 2), ('c', 3)])\n",
    "\n",
    "# Display the initial OrderedDict\n",
    "print(\"Initial OrderedDict:\", ordered_dict)\n",
    "\n",
    "# Insert an item at the beginning\n",
    "ordered_dict['x'] = 0\n",
    "\n",
    "# Move the newly inserted item to the beginning\n",
    "ordered_dict.move_to_end('x', last=False)\n",
    "\n",
    "# Display the OrderedDict after insertion at the beginning\n",
    "print(\"OrderedDict after insertion at the beginning:\", ordered_dict)"
   ]
  },
  {
   "cell_type": "markdown",
   "id": "5978c9ab",
   "metadata": {},
   "source": [
    "### 6. Write a Python program to check order of character in string using OrderedDict()?"
   ]
  },
  {
   "cell_type": "code",
   "execution_count": 11,
   "id": "d5a9460f-d987-42c3-9d48-39326b2ed065",
   "metadata": {},
   "outputs": [
    {
     "name": "stdin",
     "output_type": "stream",
     "text": [
      "Enter a string:  I love you and you mean the whole world to me Dhruba\n",
      "Enter a pattern to check:  who\n"
     ]
    },
    {
     "name": "stdout",
     "output_type": "stream",
     "text": [
      "The pattern 'who' is not in the correct order in the string 'I love you and you mean the whole world to me Dhruba'.\n"
     ]
    }
   ],
   "source": [
    "from collections import OrderedDict\n",
    "\n",
    "# Function to check the order of characters in a string\n",
    "def check_order(input_string, pattern):\n",
    "    # Create an OrderedDict to store character positions\n",
    "    char_positions = OrderedDict()\n",
    "\n",
    "    # Initialize a position variable\n",
    "    position = 0\n",
    "\n",
    "    # Iterate through the input string\n",
    "    for char in input_string:\n",
    "        char_positions[char] = char_positions.get(char, position)\n",
    "        position += 1\n",
    "\n",
    "    # Initialize a variable to track the expected position\n",
    "    expected_position = 0\n",
    "\n",
    "    # Iterate through the pattern\n",
    "    for char in pattern:\n",
    "        if char in char_positions and char_positions[char] >= expected_position:\n",
    "            expected_position = char_positions[char] + 1\n",
    "        else:\n",
    "            return False\n",
    "\n",
    "    return True\n",
    "\n",
    "# Input a string and a pattern to check\n",
    "input_string = input(\"Enter a string: \")\n",
    "pattern = input(\"Enter a pattern to check: \")\n",
    "\n",
    "# Check the order of characters in the string\n",
    "if check_order(input_string, pattern):\n",
    "    print(f\"The pattern '{pattern}' is in the correct order in the string '{input_string}'.\")\n",
    "else:\n",
    "    print(f\"The pattern '{pattern}' is not in the correct order in the string '{input_string}'.\")"
   ]
  },
  {
   "cell_type": "markdown",
   "id": "f330da77",
   "metadata": {},
   "source": [
    "### 7. Write a Python program to sort Python Dictionaries by Key or Value?"
   ]
  },
  {
   "cell_type": "code",
   "execution_count": 13,
   "id": "bb688e3d-28b1-40b4-aa8c-3e36972d00a8",
   "metadata": {},
   "outputs": [
    {
     "name": "stdout",
     "output_type": "stream",
     "text": [
      "Dictionary sorted by keys: {'a': 1, 'b': 2, 'c': 3}\n",
      "Dictionary sorted by values: {'a': 1, 'b': 2, 'c': 3}\n"
     ]
    }
   ],
   "source": [
    "# Input a dictionary\n",
    "input_dict = {'c': 3, 'a': 1, 'b': 2}\n",
    "\n",
    "# Sort the dictionary by keys and store it in a new dictionary\n",
    "sorted_dict_by_key = dict(sorted(input_dict.items()))\n",
    "\n",
    "# Display the dictionary sorted by keys\n",
    "print(\"Dictionary sorted by keys:\", sorted_dict_by_key)\n",
    "\n",
    "# Sort the dictionary by values and store it in a new dictionary\n",
    "sorted_dict_by_value = dict(sorted(input_dict.items(), key=lambda item: item[1]))\n",
    "\n",
    "# Display the dictionary sorted by values\n",
    "print(\"Dictionary sorted by values:\", sorted_dict_by_value)"
   ]
  },
  {
   "cell_type": "code",
   "execution_count": null,
   "id": "be5e5ae6-570b-48b3-a793-e559eaa82f50",
   "metadata": {},
   "outputs": [],
   "source": []
  }
 ],
 "metadata": {
  "kernelspec": {
   "display_name": "Python 3 (ipykernel)",
   "language": "python",
   "name": "python3"
  },
  "language_info": {
   "codemirror_mode": {
    "name": "ipython",
    "version": 3
   },
   "file_extension": ".py",
   "mimetype": "text/x-python",
   "name": "python",
   "nbconvert_exporter": "python",
   "pygments_lexer": "ipython3",
   "version": "3.11.7"
  }
 },
 "nbformat": 4,
 "nbformat_minor": 5
}
