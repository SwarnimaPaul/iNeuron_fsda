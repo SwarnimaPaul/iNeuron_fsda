{
 "cells": [
  {
   "cell_type": "code",
   "execution_count": null,
   "id": "759a5b44-e634-4bc5-868c-71488196cb50",
   "metadata": {},
   "outputs": [],
   "source": [
    "Python Assignment_15"
   ]
  },
  {
   "cell_type": "markdown",
   "id": "de299c62",
   "metadata": {},
   "source": [
    "### 1. Please write a program using generator to print the numbers which can be divisible by 5 and 7 between 0 and n in comma separated form while n is input by console."
   ]
  },
  {
   "cell_type": "code",
   "execution_count": 2,
   "id": "d88d25f3-ebd8-4046-9573-19ee0aa10aea",
   "metadata": {},
   "outputs": [
    {
     "name": "stdin",
     "output_type": "stream",
     "text": [
      "Enter a value for 'n':  16\n"
     ]
    },
    {
     "name": "stdout",
     "output_type": "stream",
     "text": [
      "Numbers divisible by 5 and 7 between 0 and 16 are: 0\n"
     ]
    }
   ],
   "source": [
    "def divisible_by_5_and_7(n):\n",
    "    for num in range(n + 1):\n",
    "        if num % 5 == 0 and num % 7 == 0:\n",
    "            yield num\n",
    "\n",
    "# Input 'n' from the user\n",
    "n = int(input(\"Enter a value for 'n': \"))\n",
    "\n",
    "# Generate and print numbers divisible by 5 and 7\n",
    "result = divisible_by_5_and_7(n)\n",
    "comma_separated_numbers = ', '.join(map(str, result))\n",
    "print(\"Numbers divisible by 5 and 7 between 0 and\", n, \"are:\", comma_separated_numbers)"
   ]
  },
  {
   "cell_type": "markdown",
   "id": "c04aab80",
   "metadata": {},
   "source": [
    "\n",
    "### 2. Please write a program using generator to print the even numbers between 0 and n in comma separated form while n is input by console."
   ]
  },
  {
   "cell_type": "code",
   "execution_count": 4,
   "id": "e33db080-1e7c-428e-889d-51a76404c1a0",
   "metadata": {},
   "outputs": [
    {
     "name": "stdin",
     "output_type": "stream",
     "text": [
      "Enter a value for 'n':  24\n"
     ]
    },
    {
     "name": "stdout",
     "output_type": "stream",
     "text": [
      "Even numbers between 0 and 24 are: 0, 2, 4, 6, 8, 10, 12, 14, 16, 18, 20, 22, 24\n"
     ]
    }
   ],
   "source": [
    "def even_numbers(n):\n",
    "    for num in range(n + 1):\n",
    "        if num % 2 == 0:\n",
    "            yield num\n",
    "\n",
    "# Input 'n' from the user\n",
    "n = int(input(\"Enter a value for 'n': \"))\n",
    "\n",
    "# Generate and print even numbers\n",
    "result = even_numbers(n)\n",
    "comma_separated_numbers = ', '.join(map(str, result))\n",
    "print(\"Even numbers between 0 and\", n, \"are:\", comma_separated_numbers)"
   ]
  },
  {
   "cell_type": "markdown",
   "id": "35b72559",
   "metadata": {},
   "source": [
    "### 3. Please write a program using list comprehension to print the Fibonacci Sequence in comma separated form with a given n input by console."
   ]
  },
  {
   "cell_type": "code",
   "execution_count": 6,
   "id": "c279bc84-fd3c-4c61-84f5-c623ea26a09d",
   "metadata": {},
   "outputs": [
    {
     "name": "stdin",
     "output_type": "stream",
     "text": [
      "Enter the number of terms in the Fibonacci sequence:  16\n"
     ]
    },
    {
     "name": "stdout",
     "output_type": "stream",
     "text": [
      "Fibonacci Sequence up to 16 terms: 0, 1, 1, 2, 3, 5, 8, 13, 21, 34, 55, 89, 144, 233, 377, 610\n"
     ]
    }
   ],
   "source": [
    "# Function to generate Fibonacci sequence up to n terms using list comprehension\n",
    "def fibonacci_sequence(n):\n",
    "    fib = [0, 1]\n",
    "    [fib.append(fib[-1] + fib[-2]) for _ in range(n - 2)]\n",
    "    return fib[:n]\n",
    "\n",
    "# Input 'n' from the user\n",
    "n = int(input(\"Enter the number of terms in the Fibonacci sequence: \"))\n",
    "\n",
    "# Generate and print the Fibonacci sequence\n",
    "fib_sequence = fibonacci_sequence(n)\n",
    "comma_separated_sequence = ', '.join(map(str, fib_sequence))\n",
    "print(\"Fibonacci Sequence up to\", n, \"terms:\", comma_separated_sequence)"
   ]
  },
  {
   "cell_type": "markdown",
   "id": "dea0be0f",
   "metadata": {},
   "source": [
    "\n",
    "### 4. Assuming that we have some email addresses in the \"username@companyname.com\" format, please write program to print the user name of a given email address. Both user names and company names are composed of letters only."
   ]
  },
  {
   "cell_type": "code",
   "execution_count": 12,
   "id": "6f66bd45-414e-483f-956c-983735532ae0",
   "metadata": {},
   "outputs": [
    {
     "name": "stdin",
     "output_type": "stream",
     "text": [
      "Enter an email address in the 'username@companyname.com' format:  swarnimapaul@companyname.com\n"
     ]
    },
    {
     "name": "stdout",
     "output_type": "stream",
     "text": [
      "Username: swarnimapaul\n"
     ]
    }
   ],
   "source": [
    "# Input an email address from the user\n",
    "email = input(\"Enter an email address in the 'username@companyname.com' format: \")\n",
    "\n",
    "# Split the email address at the '@' symbol\n",
    "parts = email.split('@')\n",
    "\n",
    "# Check if the email address has the correct format\n",
    "if len(parts) == 2 and parts[1].lower() == \"companyname.com\":\n",
    "    # Extract and print the username\n",
    "    username = parts[0]\n",
    "    print(\"Username:\", username)\n",
    "else:\n",
    "    print(\"Invalid email address format. Please use 'username@companyname.com'.\")"
   ]
  },
  {
   "cell_type": "markdown",
   "id": "2834c88f",
   "metadata": {},
   "source": [
    "\n",
    "### 5. Define a class named Shape and its subclass Square. The Square class has an init function which takes a length as argument. Both classes have a area function which can print the area of the shape where Shape's area is 0 by default."
   ]
  },
  {
   "cell_type": "code",
   "execution_count": 14,
   "id": "9aa292ef-f6b3-4d4a-ac03-34afae68af92",
   "metadata": {},
   "outputs": [
    {
     "name": "stdout",
     "output_type": "stream",
     "text": [
      "Area of the square: 25\n",
      "Area of the shape: 0\n"
     ]
    }
   ],
   "source": [
    "class Shape:\n",
    "    def area(self):\n",
    "        return 0\n",
    "\n",
    "class Square(Shape):\n",
    "    def __init__(self, length):\n",
    "        self.length = length\n",
    "\n",
    "    def area(self):\n",
    "        return self.length ** 2\n",
    "\n",
    "# Create an instance of the Square class\n",
    "square = Square(5)\n",
    "\n",
    "# Calculate and print the area of the square\n",
    "print(\"Area of the square:\", square.area())\n",
    "\n",
    "# Create an instance of the Shape class\n",
    "shape = Shape()\n",
    "\n",
    "# Default area of the shape (0)\n",
    "print(\"Area of the shape:\", shape.area())"
   ]
  },
  {
   "cell_type": "code",
   "execution_count": null,
   "id": "df7167f8-9522-4e33-adc9-9348c927e6ce",
   "metadata": {},
   "outputs": [],
   "source": []
  }
 ],
 "metadata": {
  "kernelspec": {
   "display_name": "Python 3 (ipykernel)",
   "language": "python",
   "name": "python3"
  },
  "language_info": {
   "codemirror_mode": {
    "name": "ipython",
    "version": 3
   },
   "file_extension": ".py",
   "mimetype": "text/x-python",
   "name": "python",
   "nbconvert_exporter": "python",
   "pygments_lexer": "ipython3",
   "version": "3.11.7"
  }
 },
 "nbformat": 4,
 "nbformat_minor": 5
}
