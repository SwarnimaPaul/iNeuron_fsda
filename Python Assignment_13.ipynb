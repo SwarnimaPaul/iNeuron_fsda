{
 "cells": [
  {
   "cell_type": "code",
   "execution_count": null,
   "id": "53b54478-e319-492d-8add-1fdfa1eea3b4",
   "metadata": {},
   "outputs": [],
   "source": [
    "Python Assignment_13"
   ]
  },
  {
   "cell_type": "markdown",
   "id": "ed4a3c0b",
   "metadata": {},
   "source": [
    "\n",
    "### 1. Write a program that calculates and prints the value according to the given formula:\n",
    "Q = Square root of [(2 C D)/H]\n",
    "\n",
    "Following are the fixed values of C and H:\n",
    "\n",
    "C is 50. H is 30.\n",
    "\n",
    "D is the variable whose values should be input to your program in a comma-separated sequence.\n",
    "\n",
    "Example\n",
    "\n",
    "Let us assume the following comma separated input sequence is given to the program:\n",
    "\n",
    "100,150,180\n",
    "\n",
    "The output of the program should be:\n",
    "\n",
    "18,22,24"
   ]
  },
  {
   "cell_type": "code",
   "execution_count": 3,
   "id": "9f0e396a-0fe2-4f37-9149-c1ddbeac1645",
   "metadata": {},
   "outputs": [
    {
     "name": "stdin",
     "output_type": "stream",
     "text": [
      "Enter the values of D separated by commas:  100,150,180\n"
     ]
    },
    {
     "name": "stdout",
     "output_type": "stream",
     "text": [
      "Output:\n",
      "18, 22, 24\n"
     ]
    }
   ],
   "source": [
    "import math\n",
    "\n",
    "# Fixed values\n",
    "C = 50\n",
    "H = 30\n",
    "\n",
    "# Input the values of D as a comma-separated sequence\n",
    "input_sequence = input(\"Enter the values of D separated by commas: \")\n",
    "\n",
    "# Split the input sequence into a list of integers\n",
    "values_of_D = [int(x) for x in input_sequence.split(',')]\n",
    "\n",
    "# Calculate and print the values according to the formula\n",
    "results = []\n",
    "for D in values_of_D:\n",
    "    Q = math.sqrt((2 * C * D) / H)\n",
    "    results.append(int(Q))\n",
    "\n",
    "# Convert the results to a comma-separated string\n",
    "output_sequence = ', '.join(map(str, results))\n",
    "\n",
    "# Display the output\n",
    "print(\"Output:\")\n",
    "print(output_sequence)"
   ]
  },
  {
   "cell_type": "markdown",
   "id": "ed37b6ed",
   "metadata": {},
   "source": [
    "### 2. Write a program which takes 2 digits, X,Y as input and generates a 2-dimensional array. The element value in the i-th row and j-th column of the array should be i*j."
   ]
  },
  {
   "cell_type": "code",
   "execution_count": 9,
   "id": "4ac6170a-1339-4729-84f9-768b26a27fbd",
   "metadata": {},
   "outputs": [
    {
     "name": "stdin",
     "output_type": "stream",
     "text": [
      "Enter the number of rows (X):  5\n",
      "Enter the number of columns (Y):  7\n"
     ]
    },
    {
     "name": "stdout",
     "output_type": "stream",
     "text": [
      "2-Dimensional Array:\n",
      "[0, 0, 0, 0, 0, 0, 0]\n",
      "[0, 1, 2, 3, 4, 5, 6]\n",
      "[0, 2, 4, 6, 8, 10, 12]\n",
      "[0, 3, 6, 9, 12, 15, 18]\n",
      "[0, 4, 8, 12, 16, 20, 24]\n"
     ]
    }
   ],
   "source": [
    "# Input two digits, X and Y\n",
    "X = int(input(\"Enter the number of rows (X): \"))\n",
    "Y = int(input(\"Enter the number of columns (Y): \"))\n",
    "\n",
    "# Generate the 2-dimensional array\n",
    "two_dimensional_array = []\n",
    "\n",
    "for i in range(X):\n",
    "    row = []\n",
    "    for j in range(Y):\n",
    "        row.append(i * j)\n",
    "    two_dimensional_array.append(row)\n",
    "\n",
    "# Display the 2-dimensional array\n",
    "print(\"2-Dimensional Array:\")\n",
    "for row in two_dimensional_array:\n",
    "    print(row)"
   ]
  },
  {
   "cell_type": "markdown",
   "id": "bc7f977b",
   "metadata": {},
   "source": [
    "### 3. Write a program that accepts a comma separated sequence of words as input and prints the words in a comma-separated sequence after sorting them alphabetically."
   ]
  },
  {
   "cell_type": "code",
   "execution_count": 11,
   "id": "4e3a711c-ca38-4b63-9856-89102f99c437",
   "metadata": {
    "scrolled": true
   },
   "outputs": [
    {
     "name": "stdin",
     "output_type": "stream",
     "text": [
      "Enter a comma-separated sequence of words:  who,am,I,\n"
     ]
    },
    {
     "name": "stdout",
     "output_type": "stream",
     "text": [
      "Sorted words:\n",
      ", I, am, who\n"
     ]
    }
   ],
   "source": [
    "# Input a comma-separated sequence of words from the user\n",
    "input_sequence = input(\"Enter a comma-separated sequence of words: \")\n",
    "\n",
    "# Split the input sequence into a list of words\n",
    "words = input_sequence.split(',')\n",
    "\n",
    "# Remove leading and trailing whitespaces from each word and sort them alphabetically\n",
    "sorted_words = sorted([word.strip() for word in words])\n",
    "\n",
    "# Join the sorted words into a comma-separated string\n",
    "output_sequence = ', '.join(sorted_words)\n",
    "\n",
    "# Display the sorted words\n",
    "print(\"Sorted words:\")\n",
    "print(output_sequence)"
   ]
  },
  {
   "cell_type": "markdown",
   "id": "171c3d90",
   "metadata": {},
   "source": [
    "### 4. Write a program that accepts a sequence of whitespace separated words as input and prints the words after removing all duplicate words and sorting them alphanumerically."
   ]
  },
  {
   "cell_type": "code",
   "execution_count": 13,
   "id": "d62c903b-4069-48a3-8859-005bc2e61f9e",
   "metadata": {},
   "outputs": [
    {
     "name": "stdin",
     "output_type": "stream",
     "text": [
      "Enter a sequence of whitespace-separated words:  hello I am Swarnima\n"
     ]
    },
    {
     "name": "stdout",
     "output_type": "stream",
     "text": [
      "Sorted and deduplicated words:\n",
      "I Swarnima am hello\n"
     ]
    }
   ],
   "source": [
    "# Input a sequence of whitespace-separated words from the user\n",
    "input_sequence = input(\"Enter a sequence of whitespace-separated words: \")\n",
    "\n",
    "# Split the input sequence into a list of words\n",
    "words = input_sequence.split()\n",
    "\n",
    "# Remove duplicates by converting the list to a set and back to a list\n",
    "unique_words = list(set(words))\n",
    "\n",
    "# Sort the unique words alphanumerically\n",
    "sorted_words = sorted(unique_words)\n",
    "\n",
    "# Join the sorted words into a whitespace-separated string\n",
    "output_sequence = ' '.join(sorted_words)\n",
    "\n",
    "# Display the sorted and deduplicated words\n",
    "print(\"Sorted and deduplicated words:\")\n",
    "print(output_sequence)"
   ]
  },
  {
   "cell_type": "markdown",
   "id": "88d25c49",
   "metadata": {},
   "source": [
    "### 5. Write a program that accepts a sentence and calculate the number of letters and digits."
   ]
  },
  {
   "cell_type": "code",
   "execution_count": 15,
   "id": "ec349178-6c52-48d1-9e86-c1d285f42492",
   "metadata": {},
   "outputs": [
    {
     "name": "stdin",
     "output_type": "stream",
     "text": [
      "Enter a sentence:  Hi how are you doing Dhruba?\n"
     ]
    },
    {
     "name": "stdout",
     "output_type": "stream",
     "text": [
      "Number of letters: 22\n",
      "Number of digits: 0\n"
     ]
    }
   ],
   "source": [
    "# Input a sentence from the user\n",
    "sentence = input(\"Enter a sentence: \")\n",
    "\n",
    "# Initialize counters for letters and digits\n",
    "letter_count = 0\n",
    "digit_count = 0\n",
    "\n",
    "# Iterate through each character in the sentence\n",
    "for char in sentence:\n",
    "    if char.isalpha():\n",
    "        letter_count += 1\n",
    "    elif char.isdigit():\n",
    "        digit_count += 1\n",
    "\n",
    "# Display the counts\n",
    "print(\"Number of letters:\", letter_count)\n",
    "print(\"Number of digits:\", digit_count)"
   ]
  },
  {
   "cell_type": "markdown",
   "id": "9695c4ca",
   "metadata": {},
   "source": [
    "### 6. A website requires the users to input username and password to register. Write a program to check the validity of password input by users."
   ]
  },
  {
   "cell_type": "code",
   "execution_count": 17,
   "id": "f2d4a8c5-87bc-4285-98d9-93c55da1bec1",
   "metadata": {},
   "outputs": [
    {
     "name": "stdin",
     "output_type": "stream",
     "text": [
      "Enter a password:  Asdfg@12345\n"
     ]
    },
    {
     "name": "stdout",
     "output_type": "stream",
     "text": [
      "Valid password.\n"
     ]
    }
   ],
   "source": [
    "import re\n",
    "\n",
    "def is_valid_password(password):\n",
    "    # Check if the password length is at least 8 characters\n",
    "    if len(password) < 8:\n",
    "        return False\n",
    "\n",
    "    # Check if the password contains at least one letter\n",
    "    if not re.search(\"[a-zA-Z]\", password):\n",
    "        return False\n",
    "\n",
    "    # Check if the password contains at least one digit\n",
    "    if not re.search(\"[0-9]\", password):\n",
    "        return False\n",
    "\n",
    "    # Check if the password contains at least one special character (e.g., @, #, $, etc.)\n",
    "    if not re.search(\"[!@#$%^&*()_+]\", password):\n",
    "        return False\n",
    "\n",
    "    return True\n",
    "\n",
    "# Input a password from the user\n",
    "password = input(\"Enter a password: \")\n",
    "\n",
    "# Check the validity of the password\n",
    "if is_valid_password(password):\n",
    "    print(\"Valid password.\")\n",
    "else:\n",
    "    print(\"Invalid password. Please follow the password criteria.\")"
   ]
  },
  {
   "cell_type": "code",
   "execution_count": null,
   "id": "23d76bc8-4b34-42a0-b80d-76239b5d1ef1",
   "metadata": {},
   "outputs": [],
   "source": []
  }
 ],
 "metadata": {
  "kernelspec": {
   "display_name": "Python 3 (ipykernel)",
   "language": "python",
   "name": "python3"
  },
  "language_info": {
   "codemirror_mode": {
    "name": "ipython",
    "version": 3
   },
   "file_extension": ".py",
   "mimetype": "text/x-python",
   "name": "python",
   "nbconvert_exporter": "python",
   "pygments_lexer": "ipython3",
   "version": "3.11.7"
  }
 },
 "nbformat": 4,
 "nbformat_minor": 5
}
