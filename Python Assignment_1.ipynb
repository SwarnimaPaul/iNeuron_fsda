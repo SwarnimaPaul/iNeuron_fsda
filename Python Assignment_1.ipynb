{
 "cells": [
  {
   "cell_type": "code",
   "execution_count": null,
   "id": "015481cc-551b-4241-b80a-a27dbfcae15d",
   "metadata": {},
   "outputs": [],
   "source": [
    "Python Assignment_1"
   ]
  },
  {
   "cell_type": "markdown",
   "id": "0c647dbe",
   "metadata": {},
   "source": [
    "### 1. Write a Python program to print \"Hello Python\"?"
   ]
  },
  {
   "cell_type": "code",
   "execution_count": 1,
   "id": "12b8b423-f8e2-4824-840c-828f2d39e642",
   "metadata": {},
   "outputs": [
    {
     "name": "stdout",
     "output_type": "stream",
     "text": [
      "Hello Python\n"
     ]
    }
   ],
   "source": [
    "command=(\"Hello Python\")\n",
    "print(command)"
   ]
  },
  {
   "cell_type": "markdown",
   "id": "fc18a6cd",
   "metadata": {},
   "source": [
    "### 2. Write a Python program to do arithmetical operations addition and division.?\n"
   ]
  },
  {
   "cell_type": "code",
   "execution_count": 4,
   "id": "99860fca-1e41-458a-91d9-a9476f516664",
   "metadata": {},
   "outputs": [
    {
     "name": "stdin",
     "output_type": "stream",
     "text": [
      "Enter 1st number:  24\n",
      "Enter 2nd number:  36\n"
     ]
    },
    {
     "name": "stdout",
     "output_type": "stream",
     "text": [
      "The numbers are  24 36\n",
      "Addition:  60\n",
      "Division:  0.6666666666666666\n"
     ]
    }
   ],
   "source": [
    "num1=int(input(\"Enter 1st number: \"))\n",
    "num2=int(input(\"Enter 2nd number: \"))\n",
    "print(\"The numbers are \",num1,num2)\n",
    "sum=num1+num2\n",
    "divide=num1/num2\n",
    "print(\"Addition: \", sum)\n",
    "print(\"Division: \", divide)"
   ]
  },
  {
   "cell_type": "markdown",
   "id": "af6e2429",
   "metadata": {},
   "source": [
    "### 3. Write a Python program to find the area of a triangle?\n"
   ]
  },
  {
   "cell_type": "code",
   "execution_count": 14,
   "id": "2b99a017-ce7f-4e85-81db-e8ee44a0d4c8",
   "metadata": {},
   "outputs": [
    {
     "name": "stdin",
     "output_type": "stream",
     "text": [
      "Enter base:  15\n",
      "Enter height:  20\n"
     ]
    },
    {
     "name": "stdout",
     "output_type": "stream",
     "text": [
      "Base: 15\n",
      "Height: 20\n",
      "Area of the triangle:  150.0\n"
     ]
    }
   ],
   "source": [
    "base=int(input(\"Enter base: \"))\n",
    "height=int(input(\"Enter height: \"))\n",
    "print(\"Base:\", base)\n",
    "print(\"Height:\", height)\n",
    "area=0.5*base*height\n",
    "print(\"Area of the triangle: \", area)"
   ]
  },
  {
   "cell_type": "markdown",
   "id": "b8140061",
   "metadata": {},
   "source": [
    "### 4. Write a Python program to swap two variables?\n"
   ]
  },
  {
   "cell_type": "code",
   "execution_count": 18,
   "id": "9da4a33b-42c0-4b2b-b6f6-daf090036b72",
   "metadata": {},
   "outputs": [
    {
     "name": "stdin",
     "output_type": "stream",
     "text": [
      "Enter 1st value:  5\n",
      "Enter 2nd value:  6\n"
     ]
    },
    {
     "name": "stdout",
     "output_type": "stream",
     "text": [
      "After swapping, 1st value:  6\n",
      "After swapping, 2nd value:  5\n"
     ]
    }
   ],
   "source": [
    "x=int(input(\"Enter 1st value: \"))\n",
    "y=int(input(\"Enter 2nd value: \"))\n",
    "temp=x\n",
    "x=y\n",
    "y=temp\n",
    "print(\"After swapping, 1st value: \",x)\n",
    "print(\"After swapping, 2nd value: \",y)"
   ]
  },
  {
   "cell_type": "markdown",
   "id": "3f8054c1",
   "metadata": {},
   "source": [
    "### 5. Write a Python program to generate a random number?\n"
   ]
  },
  {
   "cell_type": "code",
   "execution_count": 34,
   "id": "4b78ce13-b471-4c5f-b2e5-fecedf287e80",
   "metadata": {},
   "outputs": [
    {
     "name": "stdout",
     "output_type": "stream",
     "text": [
      "9\n"
     ]
    }
   ],
   "source": [
    "import random\n",
    "x=random.randint(1,10)\n",
    "print(x)"
   ]
  },
  {
   "cell_type": "code",
   "execution_count": null,
   "id": "ba2b44ff-18cc-49e1-a9be-b659c7e888dc",
   "metadata": {},
   "outputs": [],
   "source": []
  }
 ],
 "metadata": {
  "kernelspec": {
   "display_name": "Python 3 (ipykernel)",
   "language": "python",
   "name": "python3"
  },
  "language_info": {
   "codemirror_mode": {
    "name": "ipython",
    "version": 3
   },
   "file_extension": ".py",
   "mimetype": "text/x-python",
   "name": "python",
   "nbconvert_exporter": "python",
   "pygments_lexer": "ipython3",
   "version": "3.11.7"
  }
 },
 "nbformat": 4,
 "nbformat_minor": 5
}
