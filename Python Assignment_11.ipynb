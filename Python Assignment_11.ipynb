{
 "cells": [
  {
   "cell_type": "code",
   "execution_count": null,
   "id": "3db1fa2e-e8ef-4919-9c39-1ff3683c240a",
   "metadata": {},
   "outputs": [],
   "source": [
    "Python Assignment_11"
   ]
  },
  {
   "cell_type": "markdown",
   "id": "051da140",
   "metadata": {},
   "source": [
    "### 1. Write a Python program to find words which are greater than given length k?"
   ]
  },
  {
   "cell_type": "code",
   "execution_count": 3,
   "id": "5861ab80-6347-4218-9980-bc4e2d5876ae",
   "metadata": {},
   "outputs": [
    {
     "name": "stdin",
     "output_type": "stream",
     "text": [
      "Enter a list of words separated by spaces:  I love you Dhruba You mean the world to me\n",
      "Enter the minimum length 'k':  4\n"
     ]
    },
    {
     "name": "stdout",
     "output_type": "stream",
     "text": [
      "Words greater than length 4:\n",
      "Dhruba\n",
      "world\n"
     ]
    }
   ],
   "source": [
    "# Input a list of words separated by spaces\n",
    "word_list = input(\"Enter a list of words separated by spaces: \").split()\n",
    "\n",
    "# Input the minimum length 'k'\n",
    "k = int(input(\"Enter the minimum length 'k': \"))\n",
    "\n",
    "# Use a list comprehension to find words greater than length 'k'\n",
    "long_words = [word for word in word_list if len(word) > k]\n",
    "\n",
    "# Display the words greater than length 'k'\n",
    "print(f\"Words greater than length {k}:\")\n",
    "for word in long_words:\n",
    "    print(word)"
   ]
  },
  {
   "cell_type": "markdown",
   "id": "26719cbd",
   "metadata": {},
   "source": [
    "### 2. Write a Python program for removing i-th character from a string?"
   ]
  },
  {
   "cell_type": "code",
   "execution_count": 7,
   "id": "cdf3f972-40b1-4e53-8348-5b50326f1ad0",
   "metadata": {},
   "outputs": [
    {
     "name": "stdin",
     "output_type": "stream",
     "text": [
      "Enter a string:  I love you Dhruba\n",
      "Enter the index (i) of the character to remove:  0\n"
     ]
    },
    {
     "name": "stdout",
     "output_type": "stream",
     "text": [
      "String after removing the i-th character:  love you Dhruba\n"
     ]
    }
   ],
   "source": [
    "# Input a string\n",
    "input_string = input(\"Enter a string: \")\n",
    "\n",
    "# Input the index (i) of the character to remove\n",
    "i = int(input(\"Enter the index (i) of the character to remove: \"))\n",
    "\n",
    "# Check if the index is valid\n",
    "if i < 0 or i >= len(input_string):\n",
    "    print(\"Invalid index. Please enter a valid index within the string length.\")\n",
    "else:\n",
    "    # Remove the i-th character by slicing\n",
    "    new_string = input_string[:i] + input_string[i+1:]\n",
    "\n",
    "    # Display the string after removing the i-th character\n",
    "    print(\"String after removing the i-th character:\", new_string)"
   ]
  },
  {
   "cell_type": "markdown",
   "id": "51ae6b0f",
   "metadata": {},
   "source": [
    "### 3. Write a Python program to split and join a string?"
   ]
  },
  {
   "cell_type": "code",
   "execution_count": 9,
   "id": "8a237365-480e-4387-acd5-898911ffc3ae",
   "metadata": {},
   "outputs": [
    {
     "name": "stdin",
     "output_type": "stream",
     "text": [
      "Enter a string:  I married the one I fell in love with\n"
     ]
    },
    {
     "name": "stdout",
     "output_type": "stream",
     "text": [
      "Original string: I married the one I fell in love with\n",
      "List of words: ['I', 'married', 'the', 'one', 'I', 'fell', 'in', 'love', 'with']\n",
      "Joined string: I married the one I fell in love with\n"
     ]
    }
   ],
   "source": [
    "# Input a string\n",
    "input_string = input(\"Enter a string: \")\n",
    "\n",
    "# Split the string into a list of words\n",
    "words = input_string.split()\n",
    "\n",
    "# Join the list of words back into a single string with a space as the separator\n",
    "joined_string = ' '.join(words)\n",
    "\n",
    "# Display the original string, the list of words, and the joined string\n",
    "print(\"Original string:\", input_string)\n",
    "print(\"List of words:\", words)\n",
    "print(\"Joined string:\", joined_string)"
   ]
  },
  {
   "cell_type": "markdown",
   "id": "59079fe1",
   "metadata": {},
   "source": [
    "### 4. Write a Python to check if a given string is binary string or not?"
   ]
  },
  {
   "cell_type": "code",
   "execution_count": 13,
   "id": "83a37217-c55e-48e2-b438-b5cab2a39867",
   "metadata": {},
   "outputs": [
    {
     "name": "stdin",
     "output_type": "stream",
     "text": [
      "Enter a string:  My name is Swarnima\n"
     ]
    },
    {
     "name": "stdout",
     "output_type": "stream",
     "text": [
      "The input string is not a binary string.\n"
     ]
    }
   ],
   "source": [
    "# Input a string\n",
    "input_string = input(\"Enter a string: \")\n",
    "\n",
    "# Function to check if a string is a binary string\n",
    "def is_binary_string(string):\n",
    "    for char in string:\n",
    "        if char not in ('0', '1'):\n",
    "            return False\n",
    "    return True\n",
    "\n",
    "# Check if the input string is a binary string\n",
    "if is_binary_string(input_string):\n",
    "    print(\"The input string is a binary string.\")\n",
    "else:\n",
    "    print(\"The input string is not a binary string.\")"
   ]
  },
  {
   "cell_type": "markdown",
   "id": "4d6cf11a",
   "metadata": {},
   "source": [
    "### 5. Write a Python program to find uncommon words from two Strings?"
   ]
  },
  {
   "cell_type": "code",
   "execution_count": 15,
   "id": "d94ed18b-c590-4680-a751-bc1d27334079",
   "metadata": {},
   "outputs": [
    {
     "name": "stdin",
     "output_type": "stream",
     "text": [
      "Enter the first string:  Hi This is Swarnima\n",
      "Enter the second string:  I am at Bangalore\n"
     ]
    },
    {
     "name": "stdout",
     "output_type": "stream",
     "text": [
      "Uncommon words between the two strings:\n",
      "Bangalore\n",
      "Swarnima\n",
      "This\n",
      "is\n",
      "at\n",
      "Hi\n",
      "am\n",
      "I\n"
     ]
    }
   ],
   "source": [
    "# Input two strings\n",
    "string1 = input(\"Enter the first string: \")\n",
    "string2 = input(\"Enter the second string: \")\n",
    "\n",
    "# Split the strings into words\n",
    "words1 = string1.split()\n",
    "words2 = string2.split()\n",
    "\n",
    "# Create sets of words\n",
    "set1 = set(words1)\n",
    "set2 = set(words2)\n",
    "\n",
    "# Find uncommon words in both sets\n",
    "uncommon_words = set1.symmetric_difference(set2)\n",
    "\n",
    "# Display the uncommon words\n",
    "print(\"Uncommon words between the two strings:\")\n",
    "for word in uncommon_words:\n",
    "    print(word)"
   ]
  },
  {
   "cell_type": "code",
   "execution_count": null,
   "id": "6e4f3c83-6e28-4a2e-a256-1a68845b2791",
   "metadata": {},
   "outputs": [],
   "source": [
    "### 6. Write a Python to find all duplicate characters in string?"
   ]
  },
  {
   "cell_type": "code",
   "execution_count": 17,
   "id": "76d0ad5c-832d-4a98-98f9-4b10d55761aa",
   "metadata": {},
   "outputs": [
    {
     "name": "stdin",
     "output_type": "stream",
     "text": [
      "Enter a string:  I love you DhrubaDas\n"
     ]
    },
    {
     "name": "stdout",
     "output_type": "stream",
     "text": [
      "Duplicate characters in the string:\n",
      " \n",
      "o\n",
      "u\n",
      "D\n",
      "a\n"
     ]
    }
   ],
   "source": [
    "# Input a string\n",
    "input_string = input(\"Enter a string: \")\n",
    "\n",
    "# Initialize an empty dictionary to store character counts\n",
    "char_count = {}\n",
    "\n",
    "# Iterate through the string and count character occurrences\n",
    "for char in input_string:\n",
    "    if char in char_count:\n",
    "        char_count[char] += 1\n",
    "    else:\n",
    "        char_count[char] = 1\n",
    "\n",
    "# Find and display duplicate characters\n",
    "print(\"Duplicate characters in the string:\")\n",
    "for char, count in char_count.items():\n",
    "    if count > 1:\n",
    "        print(char)"
   ]
  },
  {
   "cell_type": "markdown",
   "id": "1a6af7e4",
   "metadata": {},
   "source": [
    "### 7. Write a Python Program to check if a string contains any special character?"
   ]
  },
  {
   "cell_type": "code",
   "execution_count": 19,
   "id": "e3e40d6f-ff90-4810-8ae8-0e283cac98e2",
   "metadata": {},
   "outputs": [
    {
     "name": "stdin",
     "output_type": "stream",
     "text": [
      "Enter a string:  Woww! The hills have eyes.Right?\n"
     ]
    },
    {
     "name": "stdout",
     "output_type": "stream",
     "text": [
      "The string contains special characters: ['!', '.', '?']\n"
     ]
    }
   ],
   "source": [
    "import re\n",
    "\n",
    "# Input a string\n",
    "input_string = input(\"Enter a string: \")\n",
    "\n",
    "# Define a regular expression pattern to match special characters\n",
    "special_char_pattern = re.compile(r'[^a-zA-Z0-9\\s]')\n",
    "\n",
    "# Use the findall() method to find all special characters in the string\n",
    "special_characters = special_char_pattern.findall(input_string)\n",
    "\n",
    "# Check if special characters were found\n",
    "if special_characters:\n",
    "    print(\"The string contains special characters:\", special_characters)\n",
    "else:\n",
    "    print(\"The string does not contain any special characters.\")"
   ]
  },
  {
   "cell_type": "code",
   "execution_count": null,
   "id": "7143840b-d5cc-4414-b786-765e3c5d9471",
   "metadata": {},
   "outputs": [],
   "source": []
  }
 ],
 "metadata": {
  "kernelspec": {
   "display_name": "Python 3 (ipykernel)",
   "language": "python",
   "name": "python3"
  },
  "language_info": {
   "codemirror_mode": {
    "name": "ipython",
    "version": 3
   },
   "file_extension": ".py",
   "mimetype": "text/x-python",
   "name": "python",
   "nbconvert_exporter": "python",
   "pygments_lexer": "ipython3",
   "version": "3.11.7"
  }
 },
 "nbformat": 4,
 "nbformat_minor": 5
}
