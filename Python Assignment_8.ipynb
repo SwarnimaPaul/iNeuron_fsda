{
 "cells": [
  {
   "cell_type": "code",
   "execution_count": null,
   "id": "c98a56ed-d1f0-44fe-860d-96205a62ada9",
   "metadata": {},
   "outputs": [],
   "source": [
    "Python Assignment_8"
   ]
  },
  {
   "cell_type": "markdown",
   "id": "22789ae6",
   "metadata": {},
   "source": [
    "### 1. Write a Python Program to Add Two Matrices?"
   ]
  },
  {
   "cell_type": "code",
   "execution_count": 13,
   "id": "54695e85-dd83-4d5f-915d-db6b3e9b7ac4",
   "metadata": {},
   "outputs": [
    {
     "name": "stdin",
     "output_type": "stream",
     "text": [
      "Enter the number of rows:  2\n",
      "Enter the number of columns:  1\n"
     ]
    },
    {
     "name": "stdout",
     "output_type": "stream",
     "text": [
      "Enter elements of the first matrix:\n"
     ]
    },
    {
     "name": "stdin",
     "output_type": "stream",
     "text": [
      "Enter element at row 1, column 1:  2\n",
      "Enter element at row 2, column 1:  13\n"
     ]
    },
    {
     "name": "stdout",
     "output_type": "stream",
     "text": [
      "Enter elements of the second matrix:\n"
     ]
    },
    {
     "name": "stdin",
     "output_type": "stream",
     "text": [
      "Enter element at row 1, column 1:  16\n",
      "Enter element at row 2, column 1:  24\n"
     ]
    },
    {
     "name": "stdout",
     "output_type": "stream",
     "text": [
      "Resultant matrix after addition:\n",
      "[18.0]\n",
      "[37.0]\n"
     ]
    }
   ],
   "source": [
    "# Function to add two matrices\n",
    "def add_matrices(mat1, mat2):\n",
    "    # Check if matrices have the same dimensions\n",
    "    if len(mat1) != len(mat2) or len(mat1[0]) != len(mat2[0]):\n",
    "        return None\n",
    "\n",
    "    result = []\n",
    "    for i in range(len(mat1)):\n",
    "        row = []\n",
    "        for j in range(len(mat1[0])):\n",
    "            row.append(mat1[i][j] + mat2[i][j])\n",
    "        result.append(row)\n",
    "    return result\n",
    "\n",
    "# Input the dimensions of the matrices\n",
    "rows = int(input(\"Enter the number of rows: \"))\n",
    "cols = int(input(\"Enter the number of columns: \"))\n",
    "\n",
    "# Input the elements of the first matrix\n",
    "print(\"Enter elements of the first matrix:\")\n",
    "matrix1 = []\n",
    "for i in range(rows):\n",
    "    row = []\n",
    "    for j in range(cols):\n",
    "        element = float(input(f\"Enter element at row {i+1}, column {j+1}: \"))\n",
    "        row.append(element)\n",
    "    matrix1.append(row)\n",
    "\n",
    "# Input the elements of the second matrix\n",
    "print(\"Enter elements of the second matrix:\")\n",
    "matrix2 = []\n",
    "for i in range(rows):\n",
    "    row = []\n",
    "    for j in range(cols):\n",
    "        element = float(input(f\"Enter element at row {i+1}, column {j+1}: \"))\n",
    "        row.append(element)\n",
    "    matrix2.append(row)\n",
    "\n",
    "# Add the matrices\n",
    "result_matrix = add_matrices(matrix1, matrix2)\n",
    "\n",
    "# Display the result\n",
    "if result_matrix is None:\n",
    "    print(\"Matrices cannot be added. They have different dimensions.\")\n",
    "else:\n",
    "    print(\"Resultant matrix after addition:\")\n",
    "    for row in result_matrix:\n",
    "        print(row)"
   ]
  },
  {
   "cell_type": "markdown",
   "id": "044ceda6",
   "metadata": {},
   "source": [
    "### 2. Write a Python Program to Multiply Two Matrices?"
   ]
  },
  {
   "cell_type": "code",
   "execution_count": 11,
   "id": "3dbba330-b7d1-4173-98fa-7f5408244c27",
   "metadata": {},
   "outputs": [
    {
     "name": "stdin",
     "output_type": "stream",
     "text": [
      "Enter the number of rows for the first matrix:  16\n",
      "Enter the number of columns for the first matrix:  16\n",
      "Enter the number of rows for the second matrix:  13\n",
      "Enter the number of columns for the second matrix:  24\n"
     ]
    },
    {
     "name": "stdout",
     "output_type": "stream",
     "text": [
      "Matrices cannot be multiplied. Number of columns in the first matrix must be equal to the number of rows in the second matrix.\n"
     ]
    }
   ],
   "source": [
    "def multiply_matrices(mat1, mat2):\n",
    "    # Check if matrices can be multiplied\n",
    "    if len(mat1[0]) != len(mat2):\n",
    "        return None\n",
    "\n",
    "    result = [[0 for _ in range(len(mat2[0]))] for _ in range(len(mat1))]\n",
    "\n",
    "    for i in range(len(mat1)):\n",
    "        for j in range(len(mat2[0])):\n",
    "            for k in range(len(mat2)):\n",
    "                result[i][j] += mat1[i][k] * mat2[k][j]\n",
    "\n",
    "    return result\n",
    "\n",
    "# Input the dimensions of the matrices\n",
    "rows1 = int(input(\"Enter the number of rows for the first matrix: \"))\n",
    "cols1 = int(input(\"Enter the number of columns for the first matrix: \"))\n",
    "rows2 = int(input(\"Enter the number of rows for the second matrix: \"))\n",
    "cols2 = int(input(\"Enter the number of columns for the second matrix: \"))\n",
    "\n",
    "# Check if matrices can be multiplied\n",
    "if cols1 != rows2:\n",
    "    print(\"Matrices cannot be multiplied. Number of columns in the first matrix must be equal to the number of rows in the second matrix.\")\n",
    "else:\n",
    "    # Input elements of the first matrix\n",
    "    print(\"Enter elements of the first matrix:\")\n",
    "    matrix1 = []\n",
    "    for i in range(rows1):\n",
    "        row = []\n",
    "        for j in range(cols1):\n",
    "            element = float(input(f\"Enter element at row {i + 1}, column {j + 1}: \"))\n",
    "            row.append(element)\n",
    "        matrix1.append(row)\n",
    "\n",
    "    # Input elements of the second matrix\n",
    "    print(\"Enter elements of the second matrix:\")\n",
    "    matrix2 = []\n",
    "    for i in range(rows2):\n",
    "        row = []\n",
    "        for j in range(cols2):\n",
    "            element = float(input(f\"Enter element at row {i + 1}, column {j + 1}: \"))\n",
    "            row.append(element)\n",
    "        matrix2.append(row)\n",
    "\n",
    "    # Multiply the matrices\n",
    "    result_matrix = multiply_matrices(matrix1, matrix2)\n",
    "\n",
    "    # Display the result\n",
    "    if result_matrix is None:\n",
    "        print(\"Matrices cannot be multiplied. Number of columns in the first matrix must be equal to the number of rows in the second matrix.\")\n",
    "    else:\n",
    "        print(\"Resultant matrix after multiplication:\")\n",
    "        for row in result_matrix:\n",
    "            print(row)"
   ]
  },
  {
   "cell_type": "markdown",
   "id": "5f688e46",
   "metadata": {},
   "source": [
    "### 3. Write a Python Program to Transpose a Matrix?"
   ]
  },
  {
   "cell_type": "code",
   "execution_count": 9,
   "id": "73329c1c-5d57-4016-9d93-56b41f55f735",
   "metadata": {},
   "outputs": [
    {
     "name": "stdin",
     "output_type": "stream",
     "text": [
      "Enter the number of rows:  2\n",
      "Enter the number of columns:  3\n"
     ]
    },
    {
     "name": "stdout",
     "output_type": "stream",
     "text": [
      "Enter the elements of the matrix:\n"
     ]
    },
    {
     "name": "stdin",
     "output_type": "stream",
     "text": [
      "Enter element at row 1, column 1:  13\n",
      "Enter element at row 1, column 2:  16\n",
      "Enter element at row 1, column 3:  24\n",
      "Enter element at row 2, column 1:  21\n",
      "Enter element at row 2, column 2:  16\n",
      "Enter element at row 2, column 3:  23\n"
     ]
    },
    {
     "name": "stdout",
     "output_type": "stream",
     "text": [
      "Transposed matrix:\n",
      "[13.0, 21.0]\n",
      "[16.0, 16.0]\n",
      "[24.0, 23.0]\n"
     ]
    }
   ],
   "source": [
    "# Input the matrix\n",
    "matrix = []\n",
    "rows = int(input(\"Enter the number of rows: \"))\n",
    "cols = int(input(\"Enter the number of columns: \"))\n",
    "\n",
    "print(\"Enter the elements of the matrix:\")\n",
    "for i in range(rows):\n",
    "    row = []\n",
    "    for j in range(cols):\n",
    "        element = float(input(f\"Enter element at row {i + 1}, column {j + 1}: \"))\n",
    "        row.append(element)\n",
    "    matrix.append(row)\n",
    "\n",
    "# Transpose the matrix\n",
    "transpose = [[matrix[j][i] for j in range(rows)] for i in range(cols)]\n",
    "\n",
    "# Display the transposed matrix\n",
    "print(\"Transposed matrix:\")\n",
    "for row in transpose:\n",
    "    print(row)\n"
   ]
  },
  {
   "cell_type": "markdown",
   "id": "b2849025",
   "metadata": {},
   "source": [
    "## 3\n",
    "4### 4. Write a Python Program to Sort Words in Alphabetic Order?\n"
   ]
  },
  {
   "cell_type": "code",
   "execution_count": 3,
   "id": "52f4338f-4812-45ce-b68e-b8dcb66dda0d",
   "metadata": {},
   "outputs": [
    {
     "name": "stdin",
     "output_type": "stream",
     "text": [
      "Enter a string of words:  I have an offer from Deloitte as well as EY.\n"
     ]
    },
    {
     "name": "stdout",
     "output_type": "stream",
     "text": [
      "Words sorted in alphabetical order:\n",
      "Deloitte\n",
      "EY.\n",
      "I\n",
      "an\n",
      "as\n",
      "as\n",
      "from\n",
      "have\n",
      "offer\n",
      "well\n"
     ]
    }
   ],
   "source": [
    "# Input a string of words\n",
    "input_string = input(\"Enter a string of words: \")\n",
    "\n",
    "# Split the input string into words\n",
    "words = input_string.split()\n",
    "\n",
    "# Sort the words in alphabetical order\n",
    "sorted_words = sorted(words)\n",
    "\n",
    "# Display the sorted words\n",
    "print(\"Words sorted in alphabetical order:\")\n",
    "for word in sorted_words:\n",
    "    print(word)"
   ]
  },
  {
   "cell_type": "markdown",
   "id": "48ac7b24",
   "metadata": {},
   "source": [
    "### 5. Write a Python Program to Remove Punctuation From a String?"
   ]
  },
  {
   "cell_type": "code",
   "execution_count": 1,
   "id": "e7e0a441-1431-40aa-86da-a351374a0a3e",
   "metadata": {},
   "outputs": [
    {
     "name": "stdin",
     "output_type": "stream",
     "text": [
      "Enter a string with punctuation:  Omg! The Oracle office is so magnificient.\n"
     ]
    },
    {
     "name": "stdout",
     "output_type": "stream",
     "text": [
      "String without punctuation:\n",
      "Omg The Oracle office is so magnificient\n"
     ]
    }
   ],
   "source": [
    "# Input a string with punctuation\n",
    "input_string = input(\"Enter a string with punctuation: \")\n",
    "\n",
    "# Define a string of punctuation characters\n",
    "punctuation_chars = '''!()-[]{};:'\"\\,<>./?@#$%^&*_~'''\n",
    "\n",
    "# Initialize an empty string to store the result without punctuation\n",
    "result_string = \"\"\n",
    "\n",
    "# Remove punctuation characters from the input string\n",
    "for char in input_string:\n",
    "    if char not in punctuation_chars:\n",
    "        result_string += char\n",
    "\n",
    "# Display the string without punctuation\n",
    "print(\"String without punctuation:\")\n",
    "print(result_string)"
   ]
  },
  {
   "cell_type": "code",
   "execution_count": null,
   "id": "0386fb25-fa1f-4237-b009-fb3e018314d3",
   "metadata": {},
   "outputs": [],
   "source": []
  }
 ],
 "metadata": {
  "kernelspec": {
   "display_name": "Python 3 (ipykernel)",
   "language": "python",
   "name": "python3"
  },
  "language_info": {
   "codemirror_mode": {
    "name": "ipython",
    "version": 3
   },
   "file_extension": ".py",
   "mimetype": "text/x-python",
   "name": "python",
   "nbconvert_exporter": "python",
   "pygments_lexer": "ipython3",
   "version": "3.11.7"
  }
 },
 "nbformat": 4,
 "nbformat_minor": 5
}
