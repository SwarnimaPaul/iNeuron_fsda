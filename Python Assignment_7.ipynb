{
 "cells": [
  {
   "cell_type": "code",
   "execution_count": null,
   "id": "6588d40b-ddbd-4c8e-88a1-1d91a00d3a3b",
   "metadata": {},
   "outputs": [],
   "source": [
    "Python Assignment_7"
   ]
  },
  {
   "cell_type": "code",
   "execution_count": 3,
   "id": "83a00843-1838-4a75-8cc1-3114d584ab54",
   "metadata": {},
   "outputs": [],
   "source": [
    "import array as arr"
   ]
  },
  {
   "cell_type": "markdown",
   "id": "27349114",
   "metadata": {},
   "source": [
    "### 1. Write a Python Program to find sum of array?"
   ]
  },
  {
   "cell_type": "code",
   "execution_count": 5,
   "id": "78426bd3-bfd8-4a64-920b-3c5900a0d99e",
   "metadata": {},
   "outputs": [
    {
     "name": "stdout",
     "output_type": "stream",
     "text": [
      "sum of array is  45\n"
     ]
    }
   ],
   "source": [
    "arr1= [1,2,3,4,5,6,7,8,9]\n",
    "sum_array=0\n",
    "for i in range (len(arr1)):\n",
    "    sum_array=sum_array + arr1[i]\n",
    "print(\"sum of array is \", sum_array)"
   ]
  },
  {
   "cell_type": "code",
   "execution_count": 7,
   "id": "a54666de-e9fd-46ff-94b7-4e14df164483",
   "metadata": {},
   "outputs": [],
   "source": [
    "arr2=[1,2,3,4,5,6,7,8,9]"
   ]
  },
  {
   "cell_type": "code",
   "execution_count": 9,
   "id": "606fd47f-08cc-40d2-ac28-5e4ecaee252d",
   "metadata": {},
   "outputs": [
    {
     "data": {
      "text/plain": [
       "45"
      ]
     },
     "execution_count": 9,
     "metadata": {},
     "output_type": "execute_result"
    }
   ],
   "source": [
    "sum(arr2)"
   ]
  },
  {
   "cell_type": "markdown",
   "id": "171a980d",
   "metadata": {},
   "source": [
    "### 2. Write a Python Program to find largest element in an array?\n"
   ]
  },
  {
   "cell_type": "code",
   "execution_count": 11,
   "id": "0f2b9fd9-d2a0-4d1f-94da-df6efece58a2",
   "metadata": {},
   "outputs": [
    {
     "name": "stdout",
     "output_type": "stream",
     "text": [
      "60\n"
     ]
    }
   ],
   "source": [
    "arr1=[20,40,50,60]\n",
    "large=0\n",
    "for i in range(len(arr1)):\n",
    "    if arr1[i] > large:\n",
    "        large = arr1[i]\n",
    "print(large)"
   ]
  },
  {
   "cell_type": "code",
   "execution_count": 13,
   "id": "91add258-c51f-41e9-9441-bd1ef32e59c9",
   "metadata": {},
   "outputs": [
    {
     "name": "stdout",
     "output_type": "stream",
     "text": [
      "[60, 80, 20, 40, 50]\n"
     ]
    }
   ],
   "source": [
    "# right rotate\n",
    "\n",
    "arr1=[20,40,50,60,80]\n",
    "temp=0\n",
    "shift= 2       #no of rotation \n",
    "l=(len(arr1)-1)\n",
    "for j in range (0,shift):\n",
    "    temp= arr1[len(arr1)-1]\n",
    "    for i in range (len(arr1)-1,0,-1):  # -1 as we want loop in reverse order\n",
    "        arr1[i]= arr1[i-1]\n",
    "    arr1[0]=temp\n",
    "        \n",
    "print(arr1)"
   ]
  },
  {
   "cell_type": "markdown",
   "id": "21613246",
   "metadata": {},
   "source": [
    "### 3. Write a Python Program for array rotation?"
   ]
  },
  {
   "cell_type": "code",
   "execution_count": 15,
   "id": "68d908fa-ba9e-4550-9011-9c5de58b868d",
   "metadata": {},
   "outputs": [
    {
     "name": "stdout",
     "output_type": "stream",
     "text": [
      "[50, 60, 80, 20, 40]\n",
      "5\n"
     ]
    }
   ],
   "source": [
    "#left rotate \n",
    "\n",
    "arr1=[20,40,50,60,80]\n",
    "temp=0\n",
    "shift= 2       #no of rotation \n",
    "for j in range (0,shift):\n",
    "    temp= arr1[0]\n",
    "    for i in range (len(arr1)-1):\n",
    "           arr1[i]= arr1[i+1]\n",
    "    arr1[len(arr1)-1]=temp\n",
    "print(arr1)\n",
    "print(len(arr1))\n",
    "    "
   ]
  },
  {
   "cell_type": "markdown",
   "id": "3e52d939",
   "metadata": {},
   "source": [
    "### 4. Write a Python Program to Split the array and add the first part to the end?"
   ]
  },
  {
   "cell_type": "code",
   "execution_count": 17,
   "id": "ea7e1883-09cc-46c5-b1c3-cd97c9d81652",
   "metadata": {},
   "outputs": [
    {
     "name": "stdout",
     "output_type": "stream",
     "text": [
      "[14, 8, 4, 12, 45, 23, 67]\n"
     ]
    }
   ],
   "source": [
    "def splitarray(arr1,n,k):\n",
    "    b=arr1[:k]\n",
    "    return(arr1[k::]+b[::])\n",
    "\n",
    "arr1=[12,45,23,67,14,8,4]\n",
    "n=len(arr1)\n",
    "k=4     # position to split array\n",
    "arr1=splitarray(arr1,n,k)\n",
    "\n",
    "\n",
    "print (arr1)"
   ]
  },
  {
   "cell_type": "markdown",
   "id": "aa375779",
   "metadata": {},
   "source": [
    "### 5. Write a Python Program to check if given array is Monotonic?"
   ]
  },
  {
   "cell_type": "code",
   "execution_count": 19,
   "id": "fc42eb14-7f0e-4c10-bf8f-bc0ce101b0b9",
   "metadata": {},
   "outputs": [],
   "source": [
    "## An array is monotonic if all elements are in increasing or decreasing order\n",
    "def monotonic(a):\n",
    "    return (all(a[i] <= a[i+1] for i in range(len(a)-1)) or\n",
    "            all(a[i] >= a[i+1] for i in range(len(a)-1)) )"
   ]
  },
  {
   "cell_type": "code",
   "execution_count": 21,
   "id": "093eea01-f725-4eed-bf21-0a95ea184dee",
   "metadata": {},
   "outputs": [
    {
     "name": "stdout",
     "output_type": "stream",
     "text": [
      "True\n"
     ]
    }
   ],
   "source": [
    "a=[1,2,3,4,6,6,7]\n",
    "print (monotonic(a))"
   ]
  },
  {
   "cell_type": "code",
   "execution_count": 23,
   "id": "90c1a9dd-7ff2-49a6-ade1-7c7dfbb73c04",
   "metadata": {},
   "outputs": [
    {
     "name": "stdout",
     "output_type": "stream",
     "text": [
      "False\n"
     ]
    }
   ],
   "source": [
    "a=a=[1,2,10,4,6,6,7]\n",
    "print (monotonic(a))"
   ]
  },
  {
   "cell_type": "code",
   "execution_count": 25,
   "id": "f83e662a-c9f9-4dcb-892c-64eba230371e",
   "metadata": {},
   "outputs": [
    {
     "name": "stdout",
     "output_type": "stream",
     "text": [
      "True\n"
     ]
    }
   ],
   "source": [
    "a=a=[20,18,12,10,8]\n",
    "print (monotonic(a))"
   ]
  },
  {
   "cell_type": "code",
   "execution_count": null,
   "id": "e85c408e-56bf-4a2e-90cb-f54c6d03042c",
   "metadata": {},
   "outputs": [],
   "source": []
  }
 ],
 "metadata": {
  "kernelspec": {
   "display_name": "Python 3 (ipykernel)",
   "language": "python",
   "name": "python3"
  },
  "language_info": {
   "codemirror_mode": {
    "name": "ipython",
    "version": 3
   },
   "file_extension": ".py",
   "mimetype": "text/x-python",
   "name": "python",
   "nbconvert_exporter": "python",
   "pygments_lexer": "ipython3",
   "version": "3.11.7"
  }
 },
 "nbformat": 4,
 "nbformat_minor": 5
}
